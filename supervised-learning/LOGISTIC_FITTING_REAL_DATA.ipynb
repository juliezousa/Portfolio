{
  "cells": [
    {
      "cell_type": "markdown",
      "metadata": {
        "id": "view-in-github",
        "colab_type": "text"
      },
      "source": [
        "<a href=\"https://colab.research.google.com/github/juliezousa/portfolio/blob/main/supervised-learning/LOGISTIC_FITTING_REAL_DATA.ipynb\" target=\"_parent\"><img src=\"https://colab.research.google.com/assets/colab-badge.svg\" alt=\"Open In Colab\"/></a>"
      ]
    },
    {
      "cell_type": "markdown",
      "metadata": {
        "id": "BuuX2lZRkXVn"
      },
      "source": [
        "## FIT A LOGISTIC-TYPE CURVE (S-CURVE) TO REAL DATA\n"
      ]
    },
    {
      "cell_type": "code",
      "execution_count": null,
      "metadata": {
        "id": "ickg2-VWkTS2"
      },
      "outputs": [],
      "source": [
        "# This Python 3 environment comes with many helpful analytics libraries installed\n",
        "\n",
        "import numpy as np # linear algebra\n",
        "import pandas as pd # data processing, CSV file I/O (e.g. pd.read_csv)\n",
        "import matplotlib.pyplot as plt\n",
        "from scipy.optimize import curve_fit\n",
        "import math"
      ]
    },
    {
      "cell_type": "code",
      "execution_count": null,
      "metadata": {
        "id": "slYtb8qvl2kT"
      },
      "outputs": [],
      "source": []
    },
    {
      "cell_type": "code",
      "execution_count": null,
      "metadata": {
        "id": "7CyLRfWAl2kT"
      },
      "outputs": [],
      "source": [
        "df = pd.read_clipboard()"
      ]
    },
    {
      "cell_type": "code",
      "execution_count": null,
      "metadata": {
        "id": "W2Va3AYZl2kT",
        "outputId": "f38a72c1-173c-4298-8893-dd7358ff24e7"
      },
      "outputs": [
        {
          "data": {
            "text/html": [
              "<div>\n",
              "<style scoped>\n",
              "    .dataframe tbody tr th:only-of-type {\n",
              "        vertical-align: middle;\n",
              "    }\n",
              "\n",
              "    .dataframe tbody tr th {\n",
              "        vertical-align: top;\n",
              "    }\n",
              "\n",
              "    .dataframe thead th {\n",
              "        text-align: right;\n",
              "    }\n",
              "</style>\n",
              "<table border=\"1\" class=\"dataframe\">\n",
              "  <thead>\n",
              "    <tr style=\"text-align: right;\">\n",
              "      <th></th>\n",
              "      <th>royalty_autor</th>\n",
              "    </tr>\n",
              "  </thead>\n",
              "  <tbody>\n",
              "    <tr>\n",
              "      <th>0</th>\n",
              "      <td>29020.06656</td>\n",
              "    </tr>\n",
              "    <tr>\n",
              "      <th>1</th>\n",
              "      <td>16746.00256</td>\n",
              "    </tr>\n",
              "    <tr>\n",
              "      <th>2</th>\n",
              "      <td>13868.75967</td>\n",
              "    </tr>\n",
              "    <tr>\n",
              "      <th>3</th>\n",
              "      <td>17920.78156</td>\n",
              "    </tr>\n",
              "    <tr>\n",
              "      <th>4</th>\n",
              "      <td>21548.93491</td>\n",
              "    </tr>\n",
              "    <tr>\n",
              "      <th>5</th>\n",
              "      <td>16725.29078</td>\n",
              "    </tr>\n",
              "    <tr>\n",
              "      <th>6</th>\n",
              "      <td>59000.00000</td>\n",
              "    </tr>\n",
              "    <tr>\n",
              "      <th>7</th>\n",
              "      <td>62570.52725</td>\n",
              "    </tr>\n",
              "    <tr>\n",
              "      <th>8</th>\n",
              "      <td>38693.43400</td>\n",
              "    </tr>\n",
              "    <tr>\n",
              "      <th>9</th>\n",
              "      <td>56214.08251</td>\n",
              "    </tr>\n",
              "    <tr>\n",
              "      <th>10</th>\n",
              "      <td>39908.82160</td>\n",
              "    </tr>\n",
              "    <tr>\n",
              "      <th>11</th>\n",
              "      <td>38808.02768</td>\n",
              "    </tr>\n",
              "    <tr>\n",
              "      <th>12</th>\n",
              "      <td>37215.24818</td>\n",
              "    </tr>\n",
              "    <tr>\n",
              "      <th>13</th>\n",
              "      <td>84661.84205</td>\n",
              "    </tr>\n",
              "    <tr>\n",
              "      <th>14</th>\n",
              "      <td>68094.88726</td>\n",
              "    </tr>\n",
              "    <tr>\n",
              "      <th>15</th>\n",
              "      <td>56358.66466</td>\n",
              "    </tr>\n",
              "    <tr>\n",
              "      <th>16</th>\n",
              "      <td>97113.90395</td>\n",
              "    </tr>\n",
              "    <tr>\n",
              "      <th>17</th>\n",
              "      <td>96380.40497</td>\n",
              "    </tr>\n",
              "    <tr>\n",
              "      <th>18</th>\n",
              "      <td>81326.66467</td>\n",
              "    </tr>\n",
              "    <tr>\n",
              "      <th>19</th>\n",
              "      <td>58128.87535</td>\n",
              "    </tr>\n",
              "    <tr>\n",
              "      <th>20</th>\n",
              "      <td>56277.39000</td>\n",
              "    </tr>\n",
              "    <tr>\n",
              "      <th>21</th>\n",
              "      <td>77247.77000</td>\n",
              "    </tr>\n",
              "    <tr>\n",
              "      <th>22</th>\n",
              "      <td>61942.40000</td>\n",
              "    </tr>\n",
              "    <tr>\n",
              "      <th>23</th>\n",
              "      <td>86132.31000</td>\n",
              "    </tr>\n",
              "  </tbody>\n",
              "</table>\n",
              "</div>"
            ],
            "text/plain": [
              "    royalty_autor\n",
              "0     29020.06656\n",
              "1     16746.00256\n",
              "2     13868.75967\n",
              "3     17920.78156\n",
              "4     21548.93491\n",
              "5     16725.29078\n",
              "6     59000.00000\n",
              "7     62570.52725\n",
              "8     38693.43400\n",
              "9     56214.08251\n",
              "10    39908.82160\n",
              "11    38808.02768\n",
              "12    37215.24818\n",
              "13    84661.84205\n",
              "14    68094.88726\n",
              "15    56358.66466\n",
              "16    97113.90395\n",
              "17    96380.40497\n",
              "18    81326.66467\n",
              "19    58128.87535\n",
              "20    56277.39000\n",
              "21    77247.77000\n",
              "22    61942.40000\n",
              "23    86132.31000"
            ]
          },
          "execution_count": 6,
          "metadata": {},
          "output_type": "execute_result"
        }
      ],
      "source": [
        "df"
      ]
    },
    {
      "cell_type": "code",
      "execution_count": null,
      "metadata": {
        "id": "9oIQIyD9l2kU",
        "outputId": "51dd5071-e903-43c9-cf5e-cc3ed5d8ebf6"
      },
      "outputs": [
        {
          "data": {
            "text/plain": [
              "24"
            ]
          },
          "execution_count": 31,
          "metadata": {},
          "output_type": "execute_result"
        }
      ],
      "source": [
        "len(df)"
      ]
    },
    {
      "cell_type": "code",
      "execution_count": null,
      "metadata": {
        "colab": {
          "base_uri": "https://localhost:8080/",
          "height": 282
        },
        "id": "Bi-nVwLYqyS7",
        "outputId": "f52076fa-3bfb-42a2-d06a-31b8d686e0dd"
      },
      "outputs": [
        {
          "data": {
            "text/plain": [
              "[<matplotlib.lines.Line2D at 0x7fc682a6de20>]"
            ]
          },
          "execution_count": 8,
          "metadata": {},
          "output_type": "execute_result"
        },
        {
          "data": {
            "image/png": "[encoded data removed]",
            "text/plain": [
              "<Figure size 432x288 with 1 Axes>"
            ]
          },
          "metadata": {
            "needs_background": "light"
          },
          "output_type": "display_data"
        }
      ],
      "source": [
        "plt.plot(df.royalty_autor)"
      ]
    },
    {
      "cell_type": "code",
      "execution_count": null,
      "metadata": {
        "colab": {
          "base_uri": "https://localhost:8080/",
          "height": 282
        },
        "id": "RyD0sxY90GbK",
        "outputId": "505afc69-0563-4916-9e62-86b59b3a2dbe"
      },
      "outputs": [
        {
          "data": {
            "text/plain": [
              "[<matplotlib.lines.Line2D at 0x7fc6200262b0>]"
            ]
          },
          "execution_count": 9,
          "metadata": {},
          "output_type": "execute_result"
        },
        {
          "data": {
            "image/png": "[encoded data removed]",
            "text/plain": [
              "<Figure size 432x288 with 1 Axes>"
            ]
          },
          "metadata": {
            "needs_background": "light"
          },
          "output_type": "display_data"
        }
      ],
      "source": [
        "plt.plot(df.royalty_autor.diff())"
      ]
    },
    {
      "cell_type": "code",
      "execution_count": null,
      "metadata": {
        "id": "eITizczvk3CH"
      },
      "outputs": [],
      "source": [
        "#Defining the logistic function\n",
        "def logistic(x, L, k, x0):\n",
        "    return L / (1 + np.exp(-k * (x - x0))) + 1"
      ]
    },
    {
      "cell_type": "markdown",
      "metadata": {
        "id": "M_ZE4YM-lmwi"
      },
      "source": [
        "Fitting the logistic function on the data\n",
        "We used some initialisation for the parameters as follows:\n",
        "\n",
        "\n",
        "*   $L$ (the maximum expected number) = 80000 taken from the example\n",
        "\n",
        "*   $k$ (growth rate) = 0.2 an approximated value cuz idk what one it's correct\n",
        "\n",
        "*   $x_0$ (the year of the inflexion) = 6 approximated form on the example\n",
        "\n",
        "\n",
        "\n",
        "\n",
        "\n",
        "\n"
      ]
    },
    {
      "cell_type": "code",
      "execution_count": null,
      "metadata": {
        "colab": {
          "base_uri": "https://localhost:8080/",
          "height": 333
        },
        "id": "69OLJ0fplKsK",
        "outputId": "a4771a71-cc28-4ea9-d58e-8ea162e92b72"
      },
      "outputs": [
        {
          "name": "stdout",
          "output_type": "stream",
          "text": [
            "Last quarter Royalty Receivement: 86132\n",
            "Royalty Receivement aproximated for the next quarter: 86523\n"
          ]
        },
        {
          "data": {
            "text/plain": [
              "[<matplotlib.lines.Line2D at 0x7fc660ac8e80>]"
            ]
          },
          "execution_count": 28,
          "metadata": {},
          "output_type": "execute_result"
        },
        {
          "data": {
            "image/png": "[encoded data removed]",
            "text/plain": [
              "<Figure size 432x288 with 1 Axes>"
            ]
          },
          "metadata": {
            "needs_background": "light"
          },
          "output_type": "display_data"
        }
      ],
      "source": [
        "p0 = [80000, 0.2, 6]\n",
        "\n",
        "popt, pcov = curve_fit(logistic, df.index, df.royalty_autor, p0, method = \"trf\")\n",
        "print(\"Last quarter Royalty Receivement: \" + str(int(df.royalty_autor[-1:])))\n",
        "print(\"Royalty Receivement aproximated for the next quarter: \" + str(int(int(df.royalty_autor[-1:] + logistic(len(df) , *popt) - logistic(len(df)-1 , *popt)))))\n",
        "\n",
        "plt.title(\"Royalty Receivement (blue) and prediction (red) for \" + str(len(df)) + \" quarters\")\n",
        "plt.plot(df.index, df.royalty_autor, 'b-', label='data')\n",
        "plt.plot(range(len(df) + 1), logistic(range(len(df) + 1), *popt), 'r-', label='fit')"
      ]
    },
    {
      "cell_type": "code",
      "execution_count": null,
      "metadata": {
        "id": "J298yMOOl2kV",
        "outputId": "b54ecb26-0290-4741-e34a-18bb2097ea9b"
      },
      "outputs": [
        {
          "data": {
            "text/plain": [
              "array([[ 1.06585396e+08, -7.33038110e+02,  1.57800477e+04],\n",
              "       [-7.33038110e+02,  8.41516182e-03, -9.66901736e-02],\n",
              "       [ 1.57800477e+04, -9.66901736e-02,  3.63976583e+00]])"
            ]
          },
          "execution_count": 29,
          "metadata": {},
          "output_type": "execute_result"
        }
      ],
      "source": [
        "pcov"
      ]
    },
    {
      "cell_type": "code",
      "execution_count": null,
      "metadata": {
        "id": "1XIoFKQYl2kV",
        "outputId": "fb4a67a2-ee39-4b0f-c27b-7af195b4cbc7"
      },
      "outputs": [
        {
          "data": {
            "text/plain": [
              "78634.8281576602"
            ]
          },
          "execution_count": 33,
          "metadata": {},
          "output_type": "execute_result"
        }
      ],
      "source": [
        "popt[0]"
      ]
    },
    {
      "cell_type": "code",
      "execution_count": null,
      "metadata": {
        "id": "OK1oQkwEl2kV",
        "outputId": "7edf794f-4c33-47a7-bc07-e2c67e48cce8"
      },
      "outputs": [
        {
          "data": {
            "text/plain": [
              "array([14646.84076712, 17486.35457955, 20698.32245304, 24266.1810573 ,\n",
              "       28150.25743351, 32286.861493  , 36590.78133838, 40961.40471015,\n",
              "       45291.72689631, 49478.62261509, 53432.3463542 , 57083.47954274,\n",
              "       60386.34159278, 63318.86308833, 65879.70077146, 68083.74449764,\n",
              "       69957.13510253, 71532.62908563, 72845.78642364, 73932.14559269,\n",
              "       74825.33835361, 75555.98642132, 76151.18746095, 76634.4087311 ,\n",
              "       77025.63867281, 77341.68394565, 77596.53339613, 77801.73783848,\n",
              "       77966.77486275, 78099.38204744, 78205.85127404, 78291.28262476,\n",
              "       78359.7996821 , 78414.72977113, 78458.75339059, 78494.02717547,\n",
              "       78522.28449345, 78544.91737067, 78563.04297479, 78577.55741462,\n",
              "       78589.17917956, 78598.48415184, 78605.93378714, 78611.89777119,\n",
              "       78616.67221899, 78620.49428328, 78623.55387412, 78626.00305653,\n",
              "       78627.96358358, 78629.53293312, 78630.78914426, 78631.79469151,\n",
              "       78632.59958762, 78633.24386842, 78633.75958244, 78634.17238409,\n",
              "       78634.50280907, 78634.76729557, 78634.97900172, 78635.14846006,\n",
              "       78635.28410137, 78635.39267408, 78635.47957995, 78635.54914279])"
            ]
          },
          "execution_count": 40,
          "metadata": {},
          "output_type": "execute_result"
        }
      ],
      "source": [
        "logistic(range(len(df) + 40), *popt)"
      ]
    },
    {
      "cell_type": "code",
      "execution_count": null,
      "metadata": {
        "id": "DpTYK2Bpl2kV",
        "outputId": "a151851b-ae7c-40a2-98ab-e4e53bbf4ac3"
      },
      "outputs": [
        {
          "data": {
            "text/plain": [
              "[<matplotlib.lines.Line2D at 0x7fc66181ab80>]"
            ]
          },
          "execution_count": 36,
          "metadata": {},
          "output_type": "execute_result"
        },
        {
          "data": {
            "image/png": "[encoded data removed]",
            "text/plain": [
              "<Figure size 432x288 with 1 Axes>"
            ]
          },
          "metadata": {
            "needs_background": "light"
          },
          "output_type": "display_data"
        }
      ],
      "source": [
        "plt.title(\"Royalty Receivement (blue) and prediction (red) for \" + str(len(df)+40) + \" quarters\")\n",
        "#plt.plot(df.index, df.royalty_autor, 'b-', label='data')\n",
        "plt.plot(range(len(df) + 40), logistic(range(len(df) + 40), *popt), 'r-', label='fit')"
      ]
    },
    {
      "cell_type": "code",
      "execution_count": null,
      "metadata": {
        "colab": {
          "base_uri": "https://localhost:8080/"
        },
        "id": "Z0krG8z001Gn",
        "outputId": "1321208f-08b9-4175-c079-129f2c1e385a"
      },
      "outputs": [
        {
          "name": "stdout",
          "output_type": "stream",
          "text": [
            "Last year Royalty Receivement: 281599\n"
          ]
        }
      ],
      "source": [
        "last_year1 = sum(df.royalty_autor[-4:])\n",
        "print(\"Last year Royalty Receivement: \" + str(int(last_year1)))\n",
        "# print(\"Royalty Receivement aproximated for the next quarter: \" + str(int(int(df.royalty_autor[-1:] + logistic(len(df) , *popt) - logistic(len(df)-1 , *popt))))) normalized"
      ]
    }
  ],
  "metadata": {
    "colab": {
      "provenance": [],
      "include_colab_link": true
    },
    "kernelspec": {
      "display_name": "Python 3 (ipykernel)",
      "language": "python",
      "name": "python3"
    },
    "language_info": {
      "codemirror_mode": {
        "name": "ipython",
        "version": 3
      },
      "file_extension": ".py",
      "mimetype": "text/x-python",
      "name": "python",
      "nbconvert_exporter": "python",
      "pygments_lexer": "ipython3",
      "version": "3.9.12"
    }
  },
  "nbformat": 4,
  "nbformat_minor": 0
}