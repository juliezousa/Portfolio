{
  "nbformat": 4,
  "nbformat_minor": 0,
  "metadata": {
    "colab": {
      "provenance": [],
      "authorship_tag": "ABX9TyOa24Ac5pOU0OMh5tCCxJ8u"
    },
    "kernelspec": {
      "name": "python3",
      "display_name": "Python 3"
    },
    "language_info": {
      "name": "python"
    }
  },
  "cells": [
    {
      "cell_type": "markdown",
      "source": [
        "# Searching"
      ],
      "metadata": {
        "id": "pLvLSoQGF7ip"
      }
    },
    {
      "cell_type": "code",
      "execution_count": 3,
      "metadata": {
        "id": "sZtcdmBXF3AT"
      },
      "outputs": [],
      "source": [
        "# Linear Search\n",
        "\n",
        "theArray = [10, 51, 2, 18, 4, 31, 13, 5, 23, 64, 29]\n",
        "\n",
        "def LinearSearch(key):\n",
        "  if key in theArray:\n",
        "    print(\"The key is in the Array\")\n",
        "  else:\n",
        "    print(\"The key is not in the Array\")"
      ]
    },
    {
      "cell_type": "code",
      "source": [
        "key = 8\n",
        "LinearSearch(key)"
      ],
      "metadata": {
        "colab": {
          "base_uri": "https://localhost:8080/"
        },
        "id": "3tr2KZAJGy_g",
        "outputId": "ec471c7d-0f8a-4421-d399-3a46841740a4"
      },
      "execution_count": 3,
      "outputs": [
        {
          "output_type": "stream",
          "name": "stdout",
          "text": [
            "The key is not in the Array\n"
          ]
        }
      ]
    },
    {
      "cell_type": "code",
      "source": [
        "# Sorted Linear Search\n",
        "\n",
        "theValues = [2, 4, 5, 10, 13, 18, 23, 29, 31, 51, 64]\n",
        "\n",
        "def sortedLinearSearch(theValues, item):\n",
        "  n = len(theValues)\n",
        "  for i in range(n):\n",
        "    if theArray[i] == item:\n",
        "      return True\n",
        "    elif theArray[i] > item:\n",
        "      return False\n",
        "  return False"
      ],
      "metadata": {
        "id": "f9xo_YyeG7DV"
      },
      "execution_count": 8,
      "outputs": []
    },
    {
      "cell_type": "code",
      "source": [
        "item = 65\n",
        "sortedLinearSearch(theValues, item)"
      ],
      "metadata": {
        "colab": {
          "base_uri": "https://localhost:8080/"
        },
        "id": "y2RGTd7zIFHB",
        "outputId": "f261677e-965e-446d-bba8-79cab472af1f"
      },
      "execution_count": 10,
      "outputs": [
        {
          "output_type": "execute_result",
          "data": {
            "text/plain": [
              "False"
            ]
          },
          "metadata": {},
          "execution_count": 10
        }
      ]
    },
    {
      "cell_type": "code",
      "source": [
        "# Searching for the smallest value in a unsorted sequence\n",
        "\n",
        "def findSmallest(theValues):\n",
        "  n = len(theValues)\n",
        "  smallest = theValues[0]\n",
        "  for i in range(1, n):\n",
        "    if theValues[i] < smallest:\n",
        "      smallest = theValues[i]\n",
        "  return smallest"
      ],
      "metadata": {
        "id": "cWiEB6pZIS8E"
      },
      "execution_count": 11,
      "outputs": []
    },
    {
      "cell_type": "code",
      "source": [
        "findSmallest(theArray)"
      ],
      "metadata": {
        "colab": {
          "base_uri": "https://localhost:8080/"
        },
        "id": "NFBHUBDNJVwm",
        "outputId": "f9e4fbbf-8bd1-4ff1-d80f-c68d94830a47"
      },
      "execution_count": 12,
      "outputs": [
        {
          "output_type": "execute_result",
          "data": {
            "text/plain": [
              "2"
            ]
          },
          "metadata": {},
          "execution_count": 12
        }
      ]
    },
    {
      "cell_type": "code",
      "source": [
        "# bynary search\n",
        "\n",
        "def binarySearch(theValues, target):\n",
        "  low = 0\n",
        "  high = len(theValues) - 1\n",
        "\n",
        "  while low <= high:\n",
        "\n",
        "    mid = (high + low)//2 # integer division\n",
        "    if theValues[mid] == target:\n",
        "      return True\n",
        "    elif target < theValues[mid]:\n",
        "      high = mid - 1\n",
        "    else:\n",
        "      low = mid + 1\n",
        "\n",
        "  return False"
      ],
      "metadata": {
        "id": "5YRLmKYVJbiT"
      },
      "execution_count": 13,
      "outputs": []
    },
    {
      "cell_type": "code",
      "source": [
        "target = 10\n",
        "binarySearch(theValues, target)"
      ],
      "metadata": {
        "colab": {
          "base_uri": "https://localhost:8080/"
        },
        "id": "_1Qj3nyvL21O",
        "outputId": "fa768402-c19a-4e31-c922-e4a01bde63ba"
      },
      "execution_count": 16,
      "outputs": [
        {
          "output_type": "execute_result",
          "data": {
            "text/plain": [
              "True"
            ]
          },
          "metadata": {},
          "execution_count": 16
        }
      ]
    },
    {
      "cell_type": "markdown",
      "source": [
        "# Sorting"
      ],
      "metadata": {
        "id": "fIgapmiGMJfo"
      }
    },
    {
      "cell_type": "code",
      "source": [
        "# bubble sort algorithm\n",
        "\n",
        "def bubbleSort(theSeq):\n",
        "  n = len (theSeq)\n",
        "  for i in range(n-1): # n-1 operations\n",
        "    # buble the largest item to the end, it's wrong in the book\n",
        "    for j in range ( n - i - 1):\n",
        "      if theSeq[j] > theSeq[j+1]: #\n",
        "        tmp = theSeq[j]\n",
        "        theSeq[j] = theSeq[j+1]\n",
        "        theSeq[j+1] = tmp"
      ],
      "metadata": {
        "id": "1TnN7fnkMIu1"
      },
      "execution_count": 5,
      "outputs": []
    },
    {
      "cell_type": "code",
      "source": [
        "bubbleSort(theArray)\n",
        "print(theArray)"
      ],
      "metadata": {
        "colab": {
          "base_uri": "https://localhost:8080/"
        },
        "id": "Gq0b7ZgyUOMC",
        "outputId": "03d3a633-864e-44bb-9ac0-586665b15453"
      },
      "execution_count": 8,
      "outputs": [
        {
          "output_type": "stream",
          "name": "stdout",
          "text": [
            "[2, 4, 5, 10, 13, 18, 23, 29, 31, 51, 64]\n"
          ]
        }
      ]
    },
    {
      "cell_type": "code",
      "source": [
        "# Selection Sort\n",
        "def selectionSort(theSeq):\n",
        "  n = len(theSeq)\n",
        "  for i in range (n-1):\n",
        "    #assume ith element is the smallest one\n",
        "    smallNdx = i\n",
        "    # determine if any other element contains a smaller value\n",
        "    for j in range(i+1,n):\n",
        "      if theSeq[j] < theSeq[smallNdx]:\n",
        "        smallNdx = j\n",
        "\n",
        "    # swap values if it's not the smallest\n",
        "    if smallNdx != i:\n",
        "      tmp = theSeq[i]\n",
        "      theSeq[i] = theSeq[smallNdx]\n",
        "      theSeq[smallNdx] = tmp"
      ],
      "metadata": {
        "id": "-iXYdK4sU5MP"
      },
      "execution_count": 9,
      "outputs": []
    },
    {
      "cell_type": "code",
      "source": [
        "theArray = [10, 51, 2, 18, 4, 31, 13, 5, 23, 64, 29]\n",
        "selectionSort(theArray)\n",
        "print(theArray)"
      ],
      "metadata": {
        "colab": {
          "base_uri": "https://localhost:8080/"
        },
        "id": "0IZHvsfDaI5f",
        "outputId": "9127e314-1865-4981-a367-bc9acd5dc15c"
      },
      "execution_count": 11,
      "outputs": [
        {
          "output_type": "stream",
          "name": "stdout",
          "text": [
            "[2, 4, 5, 10, 13, 18, 23, 29, 31, 51, 64]\n"
          ]
        }
      ]
    },
    {
      "cell_type": "code",
      "source": [
        "#Insertion Sort\n",
        "\n",
        "def insertionSort(theSeq):\n",
        "  n = len(theSeq)\n",
        "  for i in range(1,n): #skip the first element\n",
        "    value = theSeq[i]\n",
        "    pos = i # position value\n",
        "    while pos > 0 and value < theSeq[pos - 1]:\n",
        "      #shift item to the right during the search\n",
        "      theSeq[pos] = theSeq[pos - 1]\n",
        "      pos -= 1\n",
        "\n",
        "      # put the saved value into the open slot\n",
        "      theSeq[pos] = value"
      ],
      "metadata": {
        "id": "A4k1RM-LaRD5"
      },
      "execution_count": 12,
      "outputs": []
    },
    {
      "cell_type": "code",
      "source": [
        "theArray = [10, 51, 2, 18, 4, 31, 13, 5, 23, 64, 29]\n",
        "insertionSort(theArray)\n",
        "print(theArray)"
      ],
      "metadata": {
        "colab": {
          "base_uri": "https://localhost:8080/"
        },
        "id": "_Fhb8An3bw9B",
        "outputId": "57c700ad-6e53-400e-d517-9cc0da07fd2f"
      },
      "execution_count": 13,
      "outputs": [
        {
          "output_type": "stream",
          "name": "stdout",
          "text": [
            "[2, 4, 5, 10, 13, 18, 23, 29, 31, 51, 64]\n"
          ]
        }
      ]
    },
    {
      "cell_type": "code",
      "source": [
        "# Finding the location of a target value using the binary search.\n",
        "def findSortedPosition( theList, target ):\n",
        "  low = 0\n",
        "  high = len(theList) - 1\n",
        "  while low <= high :\n",
        "    mid = (high + low) // 2\n",
        "    if theList[mid] == target :\n",
        "      return mid\n",
        "    elif target < theList[mid] :\n",
        "      high = mid - 1\n",
        "    else :\n",
        "      low = mid + 1\n",
        "\n",
        "  return low"
      ],
      "metadata": {
        "id": "fpnK9cMRvpeE"
      },
      "execution_count": null,
      "outputs": []
    },
    {
      "cell_type": "code",
      "source": [
        "# merging two sorted lists\n",
        "listA = [ 2, 8, 15, 23, 37 ]\n",
        "listB = [ 4, 6, 15, 20 ]\n",
        "\n",
        "def mergeSortedLists(listA, listB):\n",
        "  newList = list()\n",
        "  a = 0\n",
        "  b = 0\n",
        "\n",
        "  #Merge the two lists until one list is empty\n",
        "  while a < len(listA) and b < len(listB):\n",
        "    if listA[a] < listB[b] :\n",
        "      newList.append(listA[a])\n",
        "      a += 1\n",
        "    else:\n",
        "      newList.append(listB[b])\n",
        "      b += 1\n",
        "\n",
        "  while a < len(listA):\n",
        "    newList.append(listA[a])\n",
        "    a += 1\n",
        "\n",
        "  while b < len(listB):\n",
        "    newList.append(listB[b])\n",
        "    b += 1\n",
        "\n",
        "  return newList\n",
        ""
      ],
      "metadata": {
        "id": "NDgcZOLJc3CR"
      },
      "execution_count": 1,
      "outputs": []
    },
    {
      "cell_type": "code",
      "source": [
        "mergeSortedLists( listA, listB )"
      ],
      "metadata": {
        "colab": {
          "base_uri": "https://localhost:8080/"
        },
        "id": "JEbPELhw0r5B",
        "outputId": "0003bbb5-e427-4bbe-ea28-52417deff272"
      },
      "execution_count": 2,
      "outputs": [
        {
          "output_type": "execute_result",
          "data": {
            "text/plain": [
              "[2, 4, 6, 8, 15, 15, 20, 23, 37]"
            ]
          },
          "metadata": {},
          "execution_count": 2
        }
      ]
    }
  ]
}