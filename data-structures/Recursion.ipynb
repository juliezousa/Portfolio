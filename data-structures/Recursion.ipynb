{
  "nbformat": 4,
  "nbformat_minor": 0,
  "metadata": {
    "colab": {
      "provenance": [],
      "authorship_tag": "ABX9TyMTsCIlE8zvg/qWhpDmmTZu",
      "include_colab_link": true
    },
    "kernelspec": {
      "name": "python3",
      "display_name": "Python 3"
    },
    "language_info": {
      "name": "python"
    }
  },
  "cells": [
    {
      "cell_type": "markdown",
      "metadata": {
        "id": "view-in-github",
        "colab_type": "text"
      },
      "source": [
        "<a href=\"https://colab.research.google.com/github/juliezousa/portfolio/blob/main/data-structures/Recursion.ipynb\" target=\"_parent\"><img src=\"https://colab.research.google.com/assets/colab-badge.svg\" alt=\"Open In Colab\"/></a>"
      ]
    },
    {
      "cell_type": "code",
      "execution_count": 4,
      "metadata": {
        "id": "i7vUax4m-PZ5"
      },
      "outputs": [],
      "source": [
        "#Factorial\n",
        "def fact(n):\n",
        "  assert n >= 0, \"Not defined for negative values\"\n",
        "  if n < 2:\n",
        "    return 1\n",
        "  else:\n",
        "    return n * fact(n-1)"
      ]
    },
    {
      "cell_type": "code",
      "source": [
        "fact(4)"
      ],
      "metadata": {
        "colab": {
          "base_uri": "https://localhost:8080/"
        },
        "id": "dY14mmlG-v_E",
        "outputId": "29b74c66-5692-4cd0-d6a6-124b0146e43b"
      },
      "execution_count": 8,
      "outputs": [
        {
          "output_type": "execute_result",
          "data": {
            "text/plain": [
              "24"
            ]
          },
          "metadata": {},
          "execution_count": 8
        }
      ]
    },
    {
      "cell_type": "code",
      "source": [
        "# Fibonacci Sequence 1,1,2,3,5,8,13,21,34,55,89,\n",
        "# Compute the nth number in the Fibonacci sequence\n",
        "\n",
        "def fib(n):\n",
        "  assert n >= 1, \"Fibonacci not defined for n < 1.\"\n",
        "  if n ==1 or n ==2:\n",
        "    return 1\n",
        "  else:\n",
        "    return fib(n-1) + fib (n-2)"
      ],
      "metadata": {
        "id": "0Gumq5WC-8Kt"
      },
      "execution_count": 24,
      "outputs": []
    },
    {
      "cell_type": "code",
      "source": [
        "fib(2)"
      ],
      "metadata": {
        "colab": {
          "base_uri": "https://localhost:8080/"
        },
        "id": "san7oBUJ_kjN",
        "outputId": "409cc650-9bc0-4915-f815-9410cbd67c0a"
      },
      "execution_count": 25,
      "outputs": [
        {
          "output_type": "execute_result",
          "data": {
            "text/plain": [
              "1"
            ]
          },
          "metadata": {},
          "execution_count": 25
        }
      ]
    },
    {
      "cell_type": "code",
      "source": [
        "# Recursive Binary Search\n",
        "# Performs a recursive binary search on a sorted sequence.\n",
        "def recBinarySearch( target, theSeq, first, last ):\n",
        "  # If the sequence cannot be subdivided further, we are done.\n",
        "  if first > last : # base case #1\n",
        "    return False\n",
        "  else :\n",
        "  # Find the midpoint of the sequence.\n",
        "    mid = (last + first) // 2\n",
        "    # Does the element at the midpoint contain the target?\n",
        "    if theSeq[mid] == target :\n",
        "      return True # base case #2\n",
        "      # or does the target precede the\n",
        "    elif target < theSeq[mid] :\n",
        "      return recBinarySearch( target,theSeq, first, mid - 1 )\n",
        "\n",
        "  # or does it follow the element at the midpoint?\n",
        "    else :\n",
        "      return recBinarySearch( target, theSeq, mid + 1, last )"
      ],
      "metadata": {
        "id": "qkkmhP-vAeuw"
      },
      "execution_count": 3,
      "outputs": []
    },
    {
      "cell_type": "code",
      "source": [],
      "metadata": {
        "id": "1S7m0hcmf8X_"
      },
      "execution_count": null,
      "outputs": []
    },
    {
      "cell_type": "code",
      "source": [
        "# Exponential operations\n",
        "\n",
        "# A recursive implementation for computing x ** n where n is an integer.\n",
        "def exp(x,n):\n",
        "  if n ==  0:\n",
        "    return 1\n",
        "  result=exp(x*x,n//2)\n",
        "  if n % 2 == 0:\n",
        "    return result\n",
        "  else :\n",
        "    return x * result"
      ],
      "metadata": {
        "id": "SCvavJMBGg_4"
      },
      "execution_count": 4,
      "outputs": []
    },
    {
      "cell_type": "code",
      "source": [
        "exp(2, 6)"
      ],
      "metadata": {
        "colab": {
          "base_uri": "https://localhost:8080/"
        },
        "id": "DaWc7NIYgkJe",
        "outputId": "4d7603fc-55a9-4dbe-849e-273eb92cc931"
      },
      "execution_count": 11,
      "outputs": [
        {
          "output_type": "execute_result",
          "data": {
            "text/plain": [
              "64"
            ]
          },
          "metadata": {},
          "execution_count": 11
        }
      ]
    }
  ]
}