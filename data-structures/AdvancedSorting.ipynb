{
  "nbformat": 4,
  "nbformat_minor": 0,
  "metadata": {
    "colab": {
      "provenance": [],
      "authorship_tag": "ABX9TyNRrxsYmovwGNYYm7EZeLKm"
    },
    "kernelspec": {
      "name": "python3",
      "display_name": "Python 3"
    },
    "language_info": {
      "name": "python"
    }
  },
  "cells": [
    {
      "cell_type": "code",
      "source": [
        "# merging two sorted lists\n",
        "listA = [ 2, 8, 15, 23, 37 ]\n",
        "listB = [ 4, 6, 15, 20 ]\n",
        "\n",
        "def mergeSortedLists(listA, listB):\n",
        "  newList = list()\n",
        "  a = 0\n",
        "  b = 0\n",
        "\n",
        "  #Merge the two lists until one list is empty\n",
        "  while a < len(listA) and b < len(listB):\n",
        "    if listA[a] < listB[b] :\n",
        "      newList.append(listA[a])\n",
        "      a += 1\n",
        "    else:\n",
        "      newList.append(listB[b])\n",
        "      b += 1\n",
        "\n",
        "  while a < len(listA):\n",
        "    newList.append(listA[a])\n",
        "    a += 1\n",
        "\n",
        "  while b < len(listB):\n",
        "    newList.append(listB[b])\n",
        "    b += 1\n",
        "\n",
        "  return newList"
      ],
      "metadata": {
        "id": "FUwDUL-e41uz"
      },
      "execution_count": 1,
      "outputs": []
    },
    {
      "cell_type": "code",
      "execution_count": 4,
      "metadata": {
        "id": "MU0bRaNGn6vT"
      },
      "outputs": [],
      "source": [
        "# merge sort algorithm for use in python lists - ascending order\n",
        "def pythonMergeSort(theList):\n",
        "  if len(theList)<=1: # trivial case/ base case\n",
        "    return theList\n",
        "  else:\n",
        "    mid = len(theList)//2 #midpoint\n",
        "\n",
        "    #recursive step\n",
        "    leftHalf = pythonMergeSort(theList[:mid])\n",
        "    rightHalf = pythonMergeSort(theList[mid:])\n",
        "\n",
        "    #merge the two ordered sublists\n",
        "    newList = mergeSortedLists(leftHalf, rightHalf)\n",
        "    return newList"
      ]
    },
    {
      "cell_type": "code",
      "source": [
        "theList = [10, 23, 5, 18, 4, 31, 13, 5]\n",
        "pythonMergeSort(theList)"
      ],
      "metadata": {
        "colab": {
          "base_uri": "https://localhost:8080/"
        },
        "id": "-oOupL0F48HD",
        "outputId": "34134f76-3b86-4360-a0d4-74b10f800472"
      },
      "execution_count": 5,
      "outputs": [
        {
          "output_type": "execute_result",
          "data": {
            "text/plain": [
              "[4, 5, 5, 10, 13, 18, 23, 31]"
            ]
          },
          "metadata": {},
          "execution_count": 5
        }
      ]
    },
    {
      "cell_type": "code",
      "source": [
        "def recMergeSort(theSeq, first, last, tmpArray):\n",
        "  if first == last:\n",
        "    return ;\n",
        "  else:\n",
        "    mid = (first + last)//2\n",
        "\n",
        "     # Split the sequence and\n",
        "# virtual sequence contains a single item.\n",
        "# perform the recursive step.\n",
        "    recMergeSort( theSeq, first, mid, tmpArray )\n",
        "    recMergeSort( theSeq, mid+1, last, tmpArray )\n",
        "\n",
        "\n",
        "   # Merge the two ordered subsequences.\n",
        "    mergeSortedSeq( theSeq, first, mid+1, last+1, tmpArray )"
      ],
      "metadata": {
        "id": "JHoO-6_95mOW"
      },
      "execution_count": 6,
      "outputs": []
    }
  ]
}