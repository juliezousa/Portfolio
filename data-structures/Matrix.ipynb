{
  "nbformat": 4,
  "nbformat_minor": 0,
  "metadata": {
    "colab": {
      "provenance": [],
      "authorship_tag": "ABX9TyOR1kw92rIbD9IsCm+jfu6u",
      "include_colab_link": true
    },
    "kernelspec": {
      "name": "python3",
      "display_name": "Python 3"
    },
    "language_info": {
      "name": "python"
    }
  },
  "cells": [
    {
      "cell_type": "markdown",
      "metadata": {
        "id": "view-in-github",
        "colab_type": "text"
      },
      "source": [
        "<a href=\"https://colab.research.google.com/github/juliezousa/portfolio/blob/main/data-structures/Matrix.ipynb\" target=\"_parent\"><img src=\"https://colab.research.google.com/assets/colab-badge.svg\" alt=\"Open In Colab\"/></a>"
      ]
    },
    {
      "cell_type": "code",
      "execution_count": 1,
      "metadata": {
        "colab": {
          "base_uri": "https://localhost:8080/"
        },
        "id": "7iPozHfVlex5",
        "outputId": "2cfdd0a6-4824-4164-ff33-79a27e2ae39f"
      },
      "outputs": [
        {
          "output_type": "stream",
          "name": "stdout",
          "text": [
            "Determinant of the 5x5 matrix:\n",
            "[[ 2  4  6  8 10]\n",
            " [ 1  3  5  7  9]\n",
            " [11 13 15 17 19]\n",
            " [12 14 16 18 20]\n",
            " [21 23 25 27 29]]\n",
            "is: 0.0\n"
          ]
        }
      ],
      "source": [
        "import numpy as np\n",
        "\n",
        "# Define a 5x5 matrix\n",
        "matrix_5x5 = np.array([\n",
        "    [2, 4, 6, 8, 10],\n",
        "    [1, 3, 5, 7, 9],\n",
        "    [11, 13, 15, 17, 19],\n",
        "    [12, 14, 16, 18, 20],\n",
        "    [21, 23, 25, 27, 29]\n",
        "])\n",
        "\n",
        "# Calculate determinant using numpy's `linalg` module\n",
        "determinant_5x5 = np.linalg.det(matrix_5x5)\n",
        "\n",
        "print(f\"Determinant of the 5x5 matrix:\\n{matrix_5x5}\\nis: {determinant_5x5}\")\n"
      ]
    },
    {
      "cell_type": "markdown",
      "source": [
        "A determinant of 0 for a matrix has significant implications in linear algebra. It means that the matrix is singular, or in other words, it does not have an inverse.\n",
        "\n",
        "Here are the key points associated with a determinant being zero:\n",
        "\n",
        "1. **Non-Invertibility:** For square matrices, a determinant of 0 indicates that the matrix is singular and does not have an inverse. Inverse matrices are crucial in various mathematical operations, and matrices with a determinant of 0 cannot be inverted.\n",
        "\n",
        "2. **Collinearity or Linear Dependence:** Geometrically, for a transformation represented by a matrix, a determinant of 0 signifies that the transformation collapses the space or squishes it into a lower-dimensional subspace. In the context of vectors, it means that the vectors are linearly dependent or collinear.\n",
        "\n",
        "3. **Volume Scaling Factor:** For geometric interpretations, the absolute value of the determinant of a matrix represents the scaling factor of the transformation. A determinant of 0 implies that the transformation squashes or collapses the volume of the space to zero.\n",
        "\n",
        "4. **Solution Spaces:** In systems of linear equations represented by matrices, a determinant of 0 signifies that the system either has infinitely many solutions or no unique solutions at all.\n",
        "\n",
        "In practical terms, a determinant of 0 often indicates some form of singularity or degeneracy in the matrix, leading to various consequences depending on the context in which the matrix is used, such as in linear systems, transformations, or eigenvalue problems."
      ],
      "metadata": {
        "id": "-foOaVjTloTP"
      }
    },
    {
      "cell_type": "code",
      "source": [
        "# Calculate eigenvalues using numpy's `linalg` module\n",
        "eigenvalues = np.linalg.eigvals(matrix_5x5)\n",
        "\n",
        "print(f\"Eigenvalues of the 5x5 matrix:\\n{eigenvalues}\")"
      ],
      "metadata": {
        "colab": {
          "base_uri": "https://localhost:8080/"
        },
        "id": "vkgCY-1cl2zB",
        "outputId": "cafbc0c1-256c-491c-8f7e-4362d15c95ac"
      },
      "execution_count": 2,
      "outputs": [
        {
          "output_type": "stream",
          "name": "stdout",
          "text": [
            "Eigenvalues of the 5x5 matrix:\n",
            "[ 7.36528330e+01+0.00000000e+00j -6.65283303e+00+0.00000000e+00j\n",
            " -2.16223131e-15+2.47198129e-15j -2.16223131e-15-2.47198129e-15j\n",
            " -7.41394066e-16+0.00000000e+00j]\n"
          ]
        }
      ]
    },
    {
      "cell_type": "markdown",
      "source": [
        "For a square matrix, eigenvalues can be found even if the determinant is 0. However, a matrix with a determinant of 0 has at least one eigenvalue that is also 0. This happens because the determinant of a matrix is the product of its eigenvalues."
      ],
      "metadata": {
        "id": "zEMm2y3omCYW"
      }
    },
    {
      "cell_type": "markdown",
      "source": [
        "## Transpose matrix\n",
        "\n"
      ],
      "metadata": {
        "id": "L8QFAIL2l3AI"
      }
    },
    {
      "cell_type": "code",
      "source": [
        "# Define a matrix as a list of lists\n",
        "matrix = [[1, 2, 3],\n",
        "          [4, 5, 6],\n",
        "          [7, 8, 9]]\n",
        "\n",
        "# Transpose the matrix using numpy's transpose function\n",
        "transposed_matrix = np.transpose(matrix)\n",
        "# Or using .T attribute\n",
        "# transposed_matrix = matrix.T\n",
        "\n",
        "print(\"Original matrix:\")\n",
        "print(matrix)\n",
        "\n",
        "print(\"\\nTransposed matrix:\")\n",
        "print(transposed_matrix)"
      ],
      "metadata": {
        "colab": {
          "base_uri": "https://localhost:8080/"
        },
        "id": "KblLfddumB_-",
        "outputId": "80c1168c-6a10-4683-f7cb-abfd43b7b8af"
      },
      "execution_count": 4,
      "outputs": [
        {
          "output_type": "stream",
          "name": "stdout",
          "text": [
            "Original matrix:\n",
            "[[1, 2, 3], [4, 5, 6], [7, 8, 9]]\n",
            "\n",
            "Transposed matrix:\n",
            "[[1 4 7]\n",
            " [2 5 8]\n",
            " [3 6 9]]\n"
          ]
        }
      ]
    }
  ]
}