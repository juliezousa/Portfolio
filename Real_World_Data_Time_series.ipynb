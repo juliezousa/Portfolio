{
  "cells": [
    {
      "cell_type": "code",
      "execution_count": null,
      "id": "60e8bf30-87ca-4d6f-a7bc-06d18e19e2ff",
      "metadata": {
        "id": "60e8bf30-87ca-4d6f-a7bc-06d18e19e2ff"
      },
      "outputs": [],
      "source": [
        "import numpy as np\n",
        "from scipy.integrate import odeint\n",
        "from scipy.optimize import minimize\n",
        "from scipy.interpolate import make_interp_spline, BSpline\n",
        "import matplotlib.pyplot as plt\n",
        "import pandas as pd\n",
        "import os # operating system\n",
        "import seaborn as sns"
      ]
    },
    {
      "cell_type": "code",
      "execution_count": null,
      "id": "d3b18702-53da-4a8a-ad0d-b49aff7860f5",
      "metadata": {
        "id": "d3b18702-53da-4a8a-ad0d-b49aff7860f5",
        "outputId": "49183b80-9d83-4034-c414-2f5e3a18d162"
      },
      "outputs": [
        {
          "name": "stdout",
          "output_type": "stream",
          "text": [
            "Files in '/Users/Julie/Library/CloudStorage/OneDrive-FundacaoGetulioVargas-FGV/DMM/TESE/codes/REAL-Data/baby-me-atende': ['shazam_ex.jpg', 'tiktok_ex.jpg', 'copy-baby-me-atende-royaties-bd.xlsx', 'chart-metrics.xlsx', 'spotify_ex.jpg', 'baby-me-atende-royaties-bd.xlsx', 'youtube_ex.jpg', 'spotify_examplo.jpg', 'Data-musica-teste.ipynb', 'royalties_ex.jpg', '.ipynb_checkpoints', 'copy-chart-metrics.xlsx']\n"
          ]
        }
      ],
      "source": [
        "cwd = os.getcwd()  # Get the current working directory (cwd)\n",
        "#o codigo ira rodar no caminho  'C:\\\\Users\\\\Eduarda\\\\OneDrive\\\\Adaggio_eduarda\\\\2.Codigos\n",
        "files = os.listdir(cwd)  # Get all the files in that directory\n",
        "print(\"Files in %r: %s\" % (cwd, files))"
      ]
    },
    {
      "cell_type": "code",
      "execution_count": null,
      "id": "b7940d67-87a0-4942-960f-c561dc5a2ac9",
      "metadata": {
        "id": "b7940d67-87a0-4942-960f-c561dc5a2ac9"
      },
      "outputs": [],
      "source": [
        "# atribuindo a uma variável a pasta de trabalho do excel\n",
        "path_royalty = 'copy-baby-me-atende-royaties-bd.xlsx'\n",
        "path_chart_metrics = 'copy-chart-metrics.xlsx'\n",
        "relatorio_plays = pd.ExcelFile(path_chart_metrics)\n",
        "relatorio_royalty = pd.ExcelFile(path_royalty)"
      ]
    },
    {
      "cell_type": "code",
      "execution_count": null,
      "id": "5b0fb511-e06f-47b3-9a48-9b59c26970ad",
      "metadata": {
        "id": "5b0fb511-e06f-47b3-9a48-9b59c26970ad",
        "outputId": "094666e4-a88d-4acd-9de3-10340c8cd44c"
      },
      "outputs": [
        {
          "data": {
            "text/plain": [
              "['baby-me-atende-mech', 'baby-me-atende-synch', 'mech', 'time-serie-mech']"
            ]
          },
          "execution_count": 4,
          "metadata": {},
          "output_type": "execute_result"
        }
      ],
      "source": [
        "#ver abas existentes na pasta do excel\n",
        "relatorio_royalty.sheet_names"
      ]
    },
    {
      "cell_type": "code",
      "execution_count": null,
      "id": "0c7f6701-a043-4db7-8549-f733dada051d",
      "metadata": {
        "id": "0c7f6701-a043-4db7-8549-f733dada051d",
        "outputId": "57e990c0-fa23-479e-83cc-0f8398f54ba9"
      },
      "outputs": [
        {
          "data": {
            "text/html": [
              "<div>\n",
              "<style scoped>\n",
              "    .dataframe tbody tr th:only-of-type {\n",
              "        vertical-align: middle;\n",
              "    }\n",
              "\n",
              "    .dataframe tbody tr th {\n",
              "        vertical-align: top;\n",
              "    }\n",
              "\n",
              "    .dataframe thead th {\n",
              "        text-align: right;\n",
              "    }\n",
              "</style>\n",
              "<table border=\"1\" class=\"dataframe\">\n",
              "  <thead>\n",
              "    <tr style=\"text-align: right;\">\n",
              "      <th></th>\n",
              "      <th>DATA</th>\n",
              "      <th>BABY ME ATENDE</th>\n",
              "      <th>BLOQUEADO</th>\n",
              "      <th>VOCE BEBERIA OU NAO BEBERIA?</th>\n",
              "      <th>MEU SONHO</th>\n",
              "      <th>CONDOMINIO FECHADO</th>\n",
              "      <th>SUPERACAO DIGITAL</th>\n",
              "      <th>VIDA NOTURNA</th>\n",
              "      <th>FRIEZA</th>\n",
              "      <th>MENTIROSO EU</th>\n",
              "      <th>3 OPCOES</th>\n",
              "      <th>BEIJO DAS GALAXIAS</th>\n",
              "      <th>ESTADO DECADENTE</th>\n",
              "      <th>GEMIDO MUDO</th>\n",
              "      <th>EU TO AI</th>\n",
              "    </tr>\n",
              "  </thead>\n",
              "  <tbody>\n",
              "    <tr>\n",
              "      <th>0</th>\n",
              "      <td>2021-07</td>\n",
              "      <td>NaN</td>\n",
              "      <td>NaN</td>\n",
              "      <td>NaN</td>\n",
              "      <td>NaN</td>\n",
              "      <td>3.179414</td>\n",
              "      <td>NaN</td>\n",
              "      <td>NaN</td>\n",
              "      <td>0.001512</td>\n",
              "      <td>0.443265</td>\n",
              "      <td>NaN</td>\n",
              "      <td>2.945314</td>\n",
              "      <td>24.632039</td>\n",
              "      <td>NaN</td>\n",
              "      <td>NaN</td>\n",
              "    </tr>\n",
              "    <tr>\n",
              "      <th>1</th>\n",
              "      <td>2021-10</td>\n",
              "      <td>NaN</td>\n",
              "      <td>NaN</td>\n",
              "      <td>NaN</td>\n",
              "      <td>NaN</td>\n",
              "      <td>NaN</td>\n",
              "      <td>NaN</td>\n",
              "      <td>NaN</td>\n",
              "      <td>NaN</td>\n",
              "      <td>0.387030</td>\n",
              "      <td>NaN</td>\n",
              "      <td>NaN</td>\n",
              "      <td>2.280521</td>\n",
              "      <td>NaN</td>\n",
              "      <td>NaN</td>\n",
              "    </tr>\n",
              "    <tr>\n",
              "      <th>2</th>\n",
              "      <td>2022-01</td>\n",
              "      <td>552.156292</td>\n",
              "      <td>NaN</td>\n",
              "      <td>94.23637</td>\n",
              "      <td>19.630435</td>\n",
              "      <td>13.234846</td>\n",
              "      <td>NaN</td>\n",
              "      <td>18.357771</td>\n",
              "      <td>0.711090</td>\n",
              "      <td>8.280433</td>\n",
              "      <td>6.006071</td>\n",
              "      <td>49.071141</td>\n",
              "      <td>85.634806</td>\n",
              "      <td>0.288354</td>\n",
              "      <td>5.449171</td>\n",
              "    </tr>\n",
              "  </tbody>\n",
              "</table>\n",
              "</div>"
            ],
            "text/plain": [
              "      DATA  BABY ME ATENDE  BLOQUEADO  VOCE BEBERIA OU NAO BEBERIA?  \\\n",
              "0  2021-07             NaN        NaN                           NaN   \n",
              "1  2021-10             NaN        NaN                           NaN   \n",
              "2  2022-01      552.156292        NaN                      94.23637   \n",
              "\n",
              "   MEU SONHO  CONDOMINIO FECHADO  SUPERACAO DIGITAL  VIDA NOTURNA    FRIEZA  \\\n",
              "0        NaN            3.179414                NaN           NaN  0.001512   \n",
              "1        NaN                 NaN                NaN           NaN       NaN   \n",
              "2  19.630435           13.234846                NaN     18.357771  0.711090   \n",
              "\n",
              "   MENTIROSO EU  3 OPCOES  BEIJO DAS GALAXIAS  ESTADO DECADENTE  GEMIDO MUDO  \\\n",
              "0      0.443265       NaN            2.945314         24.632039          NaN   \n",
              "1      0.387030       NaN                 NaN          2.280521          NaN   \n",
              "2      8.280433  6.006071           49.071141         85.634806     0.288354   \n",
              "\n",
              "   EU TO AI  \n",
              "0       NaN  \n",
              "1       NaN  \n",
              "2  5.449171  "
            ]
          },
          "execution_count": 5,
          "metadata": {},
          "output_type": "execute_result"
        }
      ],
      "source": [
        "df_royalties = relatorio_royalty.parse('time-serie-mech') #aba com os nomes de obras\n",
        "df_royalties.head(3)"
      ]
    },
    {
      "cell_type": "code",
      "execution_count": null,
      "id": "ff2b37ea-ea5b-460c-96a7-61e16c012a7b",
      "metadata": {
        "id": "ff2b37ea-ea5b-460c-96a7-61e16c012a7b",
        "outputId": "81090182-fff8-4c45-c1cf-4b34b16afb35"
      },
      "outputs": [
        {
          "data": {
            "text/plain": [
              "['spotify', 'shazam', 'tiktok', 'youtube']"
            ]
          },
          "execution_count": 6,
          "metadata": {},
          "output_type": "execute_result"
        }
      ],
      "source": [
        "#ver abas existentes na pasta do excel\n",
        "relatorio_plays.sheet_names"
      ]
    },
    {
      "cell_type": "code",
      "execution_count": null,
      "id": "e4d31f71-af90-486e-8633-2b18380f7ca7",
      "metadata": {
        "id": "e4d31f71-af90-486e-8633-2b18380f7ca7",
        "outputId": "d82648a3-5994-4f6b-b90b-2921fd6b65e9"
      },
      "outputs": [
        {
          "data": {
            "text/html": [
              "<div>\n",
              "<style scoped>\n",
              "    .dataframe tbody tr th:only-of-type {\n",
              "        vertical-align: middle;\n",
              "    }\n",
              "\n",
              "    .dataframe tbody tr th {\n",
              "        vertical-align: top;\n",
              "    }\n",
              "\n",
              "    .dataframe thead th {\n",
              "        text-align: right;\n",
              "    }\n",
              "</style>\n",
              "<table border=\"1\" class=\"dataframe\">\n",
              "  <thead>\n",
              "    <tr style=\"text-align: right;\">\n",
              "      <th></th>\n",
              "      <th>DateTime</th>\n",
              "      <th>Spotify Streams</th>\n",
              "      <th>Change</th>\n",
              "    </tr>\n",
              "  </thead>\n",
              "  <tbody>\n",
              "    <tr>\n",
              "      <th>0</th>\n",
              "      <td>2023-03-07</td>\n",
              "      <td>234878498</td>\n",
              "      <td>93482</td>\n",
              "    </tr>\n",
              "    <tr>\n",
              "      <th>1</th>\n",
              "      <td>2023-03-06</td>\n",
              "      <td>234785016</td>\n",
              "      <td>106794</td>\n",
              "    </tr>\n",
              "    <tr>\n",
              "      <th>2</th>\n",
              "      <td>2023-03-05</td>\n",
              "      <td>234678222</td>\n",
              "      <td>86932</td>\n",
              "    </tr>\n",
              "  </tbody>\n",
              "</table>\n",
              "</div>"
            ],
            "text/plain": [
              "    DateTime  Spotify Streams  Change\n",
              "0 2023-03-07        234878498   93482\n",
              "1 2023-03-06        234785016  106794\n",
              "2 2023-03-05        234678222   86932"
            ]
          },
          "execution_count": 7,
          "metadata": {},
          "output_type": "execute_result"
        }
      ],
      "source": [
        "df_spotify = relatorio_plays.parse('spotify') #aba com os nomes de obras\n",
        "df_spotify.head(3)"
      ]
    },
    {
      "cell_type": "code",
      "execution_count": null,
      "id": "c84a45b7-7ccf-44ee-a251-954349b37973",
      "metadata": {
        "id": "c84a45b7-7ccf-44ee-a251-954349b37973",
        "outputId": "c8170b84-c5a1-4797-e973-5183c761e048"
      },
      "outputs": [
        {
          "data": {
            "text/html": [
              "<div>\n",
              "<style scoped>\n",
              "    .dataframe tbody tr th:only-of-type {\n",
              "        vertical-align: middle;\n",
              "    }\n",
              "\n",
              "    .dataframe tbody tr th {\n",
              "        vertical-align: top;\n",
              "    }\n",
              "\n",
              "    .dataframe thead th {\n",
              "        text-align: right;\n",
              "    }\n",
              "</style>\n",
              "<table border=\"1\" class=\"dataframe\">\n",
              "  <thead>\n",
              "    <tr style=\"text-align: right;\">\n",
              "      <th></th>\n",
              "      <th>DateTime</th>\n",
              "      <th>Total Counts</th>\n",
              "      <th>Change</th>\n",
              "    </tr>\n",
              "  </thead>\n",
              "  <tbody>\n",
              "    <tr>\n",
              "      <th>0</th>\n",
              "      <td>2023-03-07</td>\n",
              "      <td>267042</td>\n",
              "      <td>38</td>\n",
              "    </tr>\n",
              "    <tr>\n",
              "      <th>1</th>\n",
              "      <td>2023-03-06</td>\n",
              "      <td>267004</td>\n",
              "      <td>56</td>\n",
              "    </tr>\n",
              "    <tr>\n",
              "      <th>2</th>\n",
              "      <td>2023-03-05</td>\n",
              "      <td>266948</td>\n",
              "      <td>117</td>\n",
              "    </tr>\n",
              "  </tbody>\n",
              "</table>\n",
              "</div>"
            ],
            "text/plain": [
              "    DateTime  Total Counts  Change\n",
              "0 2023-03-07        267042      38\n",
              "1 2023-03-06        267004      56\n",
              "2 2023-03-05        266948     117"
            ]
          },
          "execution_count": 8,
          "metadata": {},
          "output_type": "execute_result"
        }
      ],
      "source": [
        "df_shazam = relatorio_plays.parse('shazam') #aba com os nomes de obras\n",
        "df_shazam.head(3)"
      ]
    },
    {
      "cell_type": "code",
      "execution_count": null,
      "id": "11a16a50-6834-4f23-bee6-c63d5f37cae5",
      "metadata": {
        "id": "11a16a50-6834-4f23-bee6-c63d5f37cae5",
        "outputId": "4f94e353-735f-4dda-93ea-7184a8a1c5bc"
      },
      "outputs": [
        {
          "data": {
            "text/html": [
              "<div>\n",
              "<style scoped>\n",
              "    .dataframe tbody tr th:only-of-type {\n",
              "        vertical-align: middle;\n",
              "    }\n",
              "\n",
              "    .dataframe tbody tr th {\n",
              "        vertical-align: top;\n",
              "    }\n",
              "\n",
              "    .dataframe thead th {\n",
              "        text-align: right;\n",
              "    }\n",
              "</style>\n",
              "<table border=\"1\" class=\"dataframe\">\n",
              "  <thead>\n",
              "    <tr style=\"text-align: right;\">\n",
              "      <th></th>\n",
              "      <th>DateTime</th>\n",
              "      <th>Total Posts</th>\n",
              "      <th>Change</th>\n",
              "    </tr>\n",
              "  </thead>\n",
              "  <tbody>\n",
              "    <tr>\n",
              "      <th>0</th>\n",
              "      <td>2023-03-02</td>\n",
              "      <td>81400</td>\n",
              "      <td>-15</td>\n",
              "    </tr>\n",
              "    <tr>\n",
              "      <th>1</th>\n",
              "      <td>2023-03-01</td>\n",
              "      <td>81415</td>\n",
              "      <td>-16</td>\n",
              "    </tr>\n",
              "    <tr>\n",
              "      <th>2</th>\n",
              "      <td>2023-02-28</td>\n",
              "      <td>81431</td>\n",
              "      <td>-15</td>\n",
              "    </tr>\n",
              "  </tbody>\n",
              "</table>\n",
              "</div>"
            ],
            "text/plain": [
              "    DateTime  Total Posts  Change\n",
              "0 2023-03-02        81400     -15\n",
              "1 2023-03-01        81415     -16\n",
              "2 2023-02-28        81431     -15"
            ]
          },
          "execution_count": 9,
          "metadata": {},
          "output_type": "execute_result"
        }
      ],
      "source": [
        "df_tiktok = relatorio_plays.parse('tiktok') #aba com os nomes de obras\n",
        "df_tiktok.head(3)"
      ]
    },
    {
      "cell_type": "code",
      "execution_count": null,
      "id": "39689426-1f81-4da6-b75f-a000b44a8463",
      "metadata": {
        "id": "39689426-1f81-4da6-b75f-a000b44a8463",
        "outputId": "33ada12c-14fe-404c-b905-9f9bbfe7834f"
      },
      "outputs": [
        {
          "data": {
            "text/html": [
              "<div>\n",
              "<style scoped>\n",
              "    .dataframe tbody tr th:only-of-type {\n",
              "        vertical-align: middle;\n",
              "    }\n",
              "\n",
              "    .dataframe tbody tr th {\n",
              "        vertical-align: top;\n",
              "    }\n",
              "\n",
              "    .dataframe thead th {\n",
              "        text-align: right;\n",
              "    }\n",
              "</style>\n",
              "<table border=\"1\" class=\"dataframe\">\n",
              "  <thead>\n",
              "    <tr style=\"text-align: right;\">\n",
              "      <th></th>\n",
              "      <th>DateTime</th>\n",
              "      <th>Total Views</th>\n",
              "      <th>Change</th>\n",
              "    </tr>\n",
              "  </thead>\n",
              "  <tbody>\n",
              "    <tr>\n",
              "      <th>0</th>\n",
              "      <td>2023-03-07</td>\n",
              "      <td>435944483</td>\n",
              "      <td>88721</td>\n",
              "    </tr>\n",
              "    <tr>\n",
              "      <th>1</th>\n",
              "      <td>2023-03-06</td>\n",
              "      <td>435855762</td>\n",
              "      <td>177798</td>\n",
              "    </tr>\n",
              "    <tr>\n",
              "      <th>2</th>\n",
              "      <td>2023-03-05</td>\n",
              "      <td>435677964</td>\n",
              "      <td>157832</td>\n",
              "    </tr>\n",
              "  </tbody>\n",
              "</table>\n",
              "</div>"
            ],
            "text/plain": [
              "    DateTime  Total Views  Change\n",
              "0 2023-03-07    435944483   88721\n",
              "1 2023-03-06    435855762  177798\n",
              "2 2023-03-05    435677964  157832"
            ]
          },
          "execution_count": 10,
          "metadata": {},
          "output_type": "execute_result"
        }
      ],
      "source": [
        "df_youtube = relatorio_plays.parse('youtube') #aba com os nomes de obras\n",
        "df_youtube.head(3)"
      ]
    },
    {
      "cell_type": "code",
      "execution_count": null,
      "id": "3d70c6af-b7b4-44ad-bed6-082c0d673283",
      "metadata": {
        "id": "3d70c6af-b7b4-44ad-bed6-082c0d673283",
        "outputId": "34c6f92c-de10-43a4-d5a5-8cdfd18dc49e"
      },
      "outputs": [
        {
          "data": {
            "text/html": [
              "<div>\n",
              "<style scoped>\n",
              "    .dataframe tbody tr th:only-of-type {\n",
              "        vertical-align: middle;\n",
              "    }\n",
              "\n",
              "    .dataframe tbody tr th {\n",
              "        vertical-align: top;\n",
              "    }\n",
              "\n",
              "    .dataframe thead th {\n",
              "        text-align: right;\n",
              "    }\n",
              "</style>\n",
              "<table border=\"1\" class=\"dataframe\">\n",
              "  <thead>\n",
              "    <tr style=\"text-align: right;\">\n",
              "      <th></th>\n",
              "      <th>DateTime</th>\n",
              "      <th>Change</th>\n",
              "    </tr>\n",
              "  </thead>\n",
              "  <tbody>\n",
              "    <tr>\n",
              "      <th>0</th>\n",
              "      <td>2023-03-07</td>\n",
              "      <td>93482</td>\n",
              "    </tr>\n",
              "    <tr>\n",
              "      <th>1</th>\n",
              "      <td>2023-03-06</td>\n",
              "      <td>106794</td>\n",
              "    </tr>\n",
              "    <tr>\n",
              "      <th>2</th>\n",
              "      <td>2023-03-05</td>\n",
              "      <td>86932</td>\n",
              "    </tr>\n",
              "    <tr>\n",
              "      <th>3</th>\n",
              "      <td>2023-03-04</td>\n",
              "      <td>74455</td>\n",
              "    </tr>\n",
              "    <tr>\n",
              "      <th>4</th>\n",
              "      <td>2023-03-03</td>\n",
              "      <td>69043</td>\n",
              "    </tr>\n",
              "  </tbody>\n",
              "</table>\n",
              "</div>"
            ],
            "text/plain": [
              "    DateTime  Change\n",
              "0 2023-03-07   93482\n",
              "1 2023-03-06  106794\n",
              "2 2023-03-05   86932\n",
              "3 2023-03-04   74455\n",
              "4 2023-03-03   69043"
            ]
          },
          "execution_count": 11,
          "metadata": {},
          "output_type": "execute_result"
        }
      ],
      "source": [
        "df_spotify['DateTime'] = pd.to_datetime(df_spotify['DateTime'], format='%Y-%m')\n",
        "df_spotify_timeseries = df_spotify.drop(columns=['Spotify Streams'])\n",
        "df_spotify_timeseries.head(5)"
      ]
    },
    {
      "cell_type": "code",
      "execution_count": null,
      "id": "01bbf237-7c34-41db-8f01-f97c5b9717eb",
      "metadata": {
        "id": "01bbf237-7c34-41db-8f01-f97c5b9717eb",
        "outputId": "c72ac4a1-fc52-4f93-f4c8-07bccec6aadf"
      },
      "outputs": [
        {
          "data": {
            "text/html": [
              "<div>\n",
              "<style scoped>\n",
              "    .dataframe tbody tr th:only-of-type {\n",
              "        vertical-align: middle;\n",
              "    }\n",
              "\n",
              "    .dataframe tbody tr th {\n",
              "        vertical-align: top;\n",
              "    }\n",
              "\n",
              "    .dataframe thead th {\n",
              "        text-align: right;\n",
              "    }\n",
              "</style>\n",
              "<table border=\"1\" class=\"dataframe\">\n",
              "  <thead>\n",
              "    <tr style=\"text-align: right;\">\n",
              "      <th></th>\n",
              "      <th>DateTime</th>\n",
              "      <th>Change</th>\n",
              "    </tr>\n",
              "  </thead>\n",
              "  <tbody>\n",
              "    <tr>\n",
              "      <th>0</th>\n",
              "      <td>2023-03-07</td>\n",
              "      <td>38</td>\n",
              "    </tr>\n",
              "    <tr>\n",
              "      <th>1</th>\n",
              "      <td>2023-03-06</td>\n",
              "      <td>56</td>\n",
              "    </tr>\n",
              "    <tr>\n",
              "      <th>2</th>\n",
              "      <td>2023-03-05</td>\n",
              "      <td>117</td>\n",
              "    </tr>\n",
              "    <tr>\n",
              "      <th>3</th>\n",
              "      <td>2023-03-04</td>\n",
              "      <td>74</td>\n",
              "    </tr>\n",
              "    <tr>\n",
              "      <th>4</th>\n",
              "      <td>2023-03-03</td>\n",
              "      <td>41</td>\n",
              "    </tr>\n",
              "  </tbody>\n",
              "</table>\n",
              "</div>"
            ],
            "text/plain": [
              "    DateTime  Change\n",
              "0 2023-03-07      38\n",
              "1 2023-03-06      56\n",
              "2 2023-03-05     117\n",
              "3 2023-03-04      74\n",
              "4 2023-03-03      41"
            ]
          },
          "execution_count": 12,
          "metadata": {},
          "output_type": "execute_result"
        }
      ],
      "source": [
        "df_shazam['DateTime'] = pd.to_datetime(df_shazam['DateTime'], format='%Y-%m')\n",
        "df_shazam_timeseries = df_shazam.drop(columns=['Total Counts'])\n",
        "df_shazam_timeseries.head(5)"
      ]
    },
    {
      "cell_type": "code",
      "execution_count": null,
      "id": "950fd1bd-e5a0-4239-892c-76ee48dcbbd8",
      "metadata": {
        "id": "950fd1bd-e5a0-4239-892c-76ee48dcbbd8",
        "outputId": "99ebf986-404c-4add-e94f-6a082b0f26be"
      },
      "outputs": [
        {
          "data": {
            "text/html": [
              "<div>\n",
              "<style scoped>\n",
              "    .dataframe tbody tr th:only-of-type {\n",
              "        vertical-align: middle;\n",
              "    }\n",
              "\n",
              "    .dataframe tbody tr th {\n",
              "        vertical-align: top;\n",
              "    }\n",
              "\n",
              "    .dataframe thead th {\n",
              "        text-align: right;\n",
              "    }\n",
              "</style>\n",
              "<table border=\"1\" class=\"dataframe\">\n",
              "  <thead>\n",
              "    <tr style=\"text-align: right;\">\n",
              "      <th></th>\n",
              "      <th>DateTime</th>\n",
              "      <th>Change</th>\n",
              "    </tr>\n",
              "  </thead>\n",
              "  <tbody>\n",
              "    <tr>\n",
              "      <th>0</th>\n",
              "      <td>2023-03-02</td>\n",
              "      <td>-15</td>\n",
              "    </tr>\n",
              "    <tr>\n",
              "      <th>1</th>\n",
              "      <td>2023-03-01</td>\n",
              "      <td>-16</td>\n",
              "    </tr>\n",
              "    <tr>\n",
              "      <th>2</th>\n",
              "      <td>2023-02-28</td>\n",
              "      <td>-15</td>\n",
              "    </tr>\n",
              "    <tr>\n",
              "      <th>3</th>\n",
              "      <td>2023-02-27</td>\n",
              "      <td>-16</td>\n",
              "    </tr>\n",
              "    <tr>\n",
              "      <th>4</th>\n",
              "      <td>2023-02-26</td>\n",
              "      <td>-15</td>\n",
              "    </tr>\n",
              "  </tbody>\n",
              "</table>\n",
              "</div>"
            ],
            "text/plain": [
              "    DateTime  Change\n",
              "0 2023-03-02     -15\n",
              "1 2023-03-01     -16\n",
              "2 2023-02-28     -15\n",
              "3 2023-02-27     -16\n",
              "4 2023-02-26     -15"
            ]
          },
          "execution_count": 13,
          "metadata": {},
          "output_type": "execute_result"
        }
      ],
      "source": [
        "df_tiktok['DateTime'] = pd.to_datetime(df_tiktok['DateTime'], format='%Y-%m')\n",
        "df_tiktok_timeseries = df_tiktok.drop(columns=['Total Posts'])\n",
        "df_tiktok_timeseries.head(5)"
      ]
    },
    {
      "cell_type": "code",
      "execution_count": null,
      "id": "8f68a93d-5477-49e8-8e2f-e2b37b9c50ec",
      "metadata": {
        "id": "8f68a93d-5477-49e8-8e2f-e2b37b9c50ec",
        "outputId": "9ebd0b6d-c658-474b-edff-b2d380db8879"
      },
      "outputs": [
        {
          "data": {
            "text/html": [
              "<div>\n",
              "<style scoped>\n",
              "    .dataframe tbody tr th:only-of-type {\n",
              "        vertical-align: middle;\n",
              "    }\n",
              "\n",
              "    .dataframe tbody tr th {\n",
              "        vertical-align: top;\n",
              "    }\n",
              "\n",
              "    .dataframe thead th {\n",
              "        text-align: right;\n",
              "    }\n",
              "</style>\n",
              "<table border=\"1\" class=\"dataframe\">\n",
              "  <thead>\n",
              "    <tr style=\"text-align: right;\">\n",
              "      <th></th>\n",
              "      <th>DateTime</th>\n",
              "      <th>Change</th>\n",
              "    </tr>\n",
              "  </thead>\n",
              "  <tbody>\n",
              "    <tr>\n",
              "      <th>0</th>\n",
              "      <td>2023-03-07</td>\n",
              "      <td>88721</td>\n",
              "    </tr>\n",
              "    <tr>\n",
              "      <th>1</th>\n",
              "      <td>2023-03-06</td>\n",
              "      <td>177798</td>\n",
              "    </tr>\n",
              "    <tr>\n",
              "      <th>2</th>\n",
              "      <td>2023-03-05</td>\n",
              "      <td>157832</td>\n",
              "    </tr>\n",
              "    <tr>\n",
              "      <th>3</th>\n",
              "      <td>2023-03-04</td>\n",
              "      <td>99114</td>\n",
              "    </tr>\n",
              "    <tr>\n",
              "      <th>4</th>\n",
              "      <td>2023-03-03</td>\n",
              "      <td>94944</td>\n",
              "    </tr>\n",
              "  </tbody>\n",
              "</table>\n",
              "</div>"
            ],
            "text/plain": [
              "    DateTime  Change\n",
              "0 2023-03-07   88721\n",
              "1 2023-03-06  177798\n",
              "2 2023-03-05  157832\n",
              "3 2023-03-04   99114\n",
              "4 2023-03-03   94944"
            ]
          },
          "execution_count": 14,
          "metadata": {},
          "output_type": "execute_result"
        }
      ],
      "source": [
        "df_youtube['DateTime'] = pd.to_datetime(df_youtube['DateTime'], format='%Y-%m')\n",
        "df_youtube_timeseries = df_youtube.drop(columns=['Total Views'])\n",
        "df_youtube_timeseries.head(5)"
      ]
    },
    {
      "cell_type": "code",
      "execution_count": null,
      "id": "3a71c6d8-245c-42a0-94e7-cc76aafeea80",
      "metadata": {
        "tags": [],
        "id": "3a71c6d8-245c-42a0-94e7-cc76aafeea80",
        "outputId": "9761f6af-754e-472e-9f91-f60a1f5aa0e3"
      },
      "outputs": [
        {
          "data": {
            "text/html": [
              "<div>\n",
              "<style scoped>\n",
              "    .dataframe tbody tr th:only-of-type {\n",
              "        vertical-align: middle;\n",
              "    }\n",
              "\n",
              "    .dataframe tbody tr th {\n",
              "        vertical-align: top;\n",
              "    }\n",
              "\n",
              "    .dataframe thead th {\n",
              "        text-align: right;\n",
              "    }\n",
              "</style>\n",
              "<table border=\"1\" class=\"dataframe\">\n",
              "  <thead>\n",
              "    <tr style=\"text-align: right;\">\n",
              "      <th></th>\n",
              "      <th>DATA</th>\n",
              "      <th>BABY ME ATENDE</th>\n",
              "    </tr>\n",
              "  </thead>\n",
              "  <tbody>\n",
              "    <tr>\n",
              "      <th>0</th>\n",
              "      <td>2021-07-01</td>\n",
              "      <td>NaN</td>\n",
              "    </tr>\n",
              "    <tr>\n",
              "      <th>1</th>\n",
              "      <td>2021-10-01</td>\n",
              "      <td>NaN</td>\n",
              "    </tr>\n",
              "    <tr>\n",
              "      <th>2</th>\n",
              "      <td>2022-01-01</td>\n",
              "      <td>552.156292</td>\n",
              "    </tr>\n",
              "    <tr>\n",
              "      <th>3</th>\n",
              "      <td>2022-04-01</td>\n",
              "      <td>33777.790942</td>\n",
              "    </tr>\n",
              "    <tr>\n",
              "      <th>4</th>\n",
              "      <td>2022-07-01</td>\n",
              "      <td>14932.609789</td>\n",
              "    </tr>\n",
              "  </tbody>\n",
              "</table>\n",
              "</div>"
            ],
            "text/plain": [
              "        DATA  BABY ME ATENDE\n",
              "0 2021-07-01             NaN\n",
              "1 2021-10-01             NaN\n",
              "2 2022-01-01      552.156292\n",
              "3 2022-04-01    33777.790942\n",
              "4 2022-07-01    14932.609789"
            ]
          },
          "execution_count": 15,
          "metadata": {},
          "output_type": "execute_result"
        }
      ],
      "source": [
        "df_royalties['DATA'] = pd.to_datetime(df_royalties['DATA'], format='%Y-%m')\n",
        "df_royalties_timeseries = df_royalties[['DATA', 'BABY ME ATENDE']]\n",
        "df_royalties_timeseries.head(5)"
      ]
    },
    {
      "cell_type": "code",
      "execution_count": null,
      "id": "7e05a76b-5cab-4810-a0c9-7ab9ad6bc291",
      "metadata": {
        "id": "7e05a76b-5cab-4810-a0c9-7ab9ad6bc291",
        "outputId": "1888c2d1-0d4c-43b1-98f7-65907aa575fe"
      },
      "outputs": [
        {
          "name": "stdout",
          "output_type": "stream",
          "text": [
            "            Change\n",
            "DateTime          \n",
            "2023-03-07   93482\n",
            "2023-03-06  106794\n",
            "2023-03-05   86932\n",
            "2023-03-04   74455\n",
            "2023-03-03   69043\n"
          ]
        }
      ],
      "source": [
        "df_spotify_timeseries.index = df_spotify['DateTime']\n",
        "del df_spotify_timeseries['DateTime']\n",
        "print(df_spotify_timeseries.head())"
      ]
    },
    {
      "cell_type": "code",
      "execution_count": null,
      "id": "b9f0dee2-3cc0-47f6-af3f-e9ea43ac28b2",
      "metadata": {
        "id": "b9f0dee2-3cc0-47f6-af3f-e9ea43ac28b2",
        "outputId": "b585bc71-65c3-4e27-e977-845b94df4330"
      },
      "outputs": [
        {
          "name": "stdout",
          "output_type": "stream",
          "text": [
            "            Change\n",
            "DateTime          \n",
            "2023-03-07      38\n",
            "2023-03-06      56\n",
            "2023-03-05     117\n",
            "2023-03-04      74\n",
            "2023-03-03      41\n"
          ]
        }
      ],
      "source": [
        "df_shazam_timeseries.index = df_shazam['DateTime']\n",
        "del df_shazam_timeseries['DateTime']\n",
        "print(df_shazam_timeseries.head())"
      ]
    },
    {
      "cell_type": "code",
      "execution_count": null,
      "id": "8f9ac021-185b-4b3e-84a4-6fe01af7818e",
      "metadata": {
        "id": "8f9ac021-185b-4b3e-84a4-6fe01af7818e",
        "outputId": "838ff3da-78c4-4163-fc9b-ba62f5c9e980"
      },
      "outputs": [
        {
          "name": "stdout",
          "output_type": "stream",
          "text": [
            "            Change\n",
            "DateTime          \n",
            "2023-03-02     -15\n",
            "2023-03-01     -16\n",
            "2023-02-28     -15\n",
            "2023-02-27     -16\n",
            "2023-02-26     -15\n"
          ]
        }
      ],
      "source": [
        "df_tiktok_timeseries.index = df_tiktok['DateTime']\n",
        "del df_tiktok_timeseries['DateTime']\n",
        "print(df_tiktok_timeseries.head())"
      ]
    },
    {
      "cell_type": "code",
      "execution_count": null,
      "id": "0218ddb2-80ff-4ff2-8152-c897cb6966c9",
      "metadata": {
        "id": "0218ddb2-80ff-4ff2-8152-c897cb6966c9",
        "outputId": "49819ac1-39c9-4c7c-939a-5cf2c671578e"
      },
      "outputs": [
        {
          "name": "stdout",
          "output_type": "stream",
          "text": [
            "            Change\n",
            "DateTime          \n",
            "2023-03-07   88721\n",
            "2023-03-06  177798\n",
            "2023-03-05  157832\n",
            "2023-03-04   99114\n",
            "2023-03-03   94944\n"
          ]
        }
      ],
      "source": [
        "df_youtube_timeseries.index = df_youtube['DateTime']\n",
        "del df_youtube_timeseries['DateTime']\n",
        "print(df_youtube_timeseries.head())"
      ]
    },
    {
      "cell_type": "code",
      "execution_count": null,
      "id": "749c50aa-dd68-4879-bc4c-583c05e3e6c5",
      "metadata": {
        "id": "749c50aa-dd68-4879-bc4c-583c05e3e6c5",
        "outputId": "3c9fcfa9-d139-43c8-c8cb-e578ee637cf7"
      },
      "outputs": [
        {
          "name": "stdout",
          "output_type": "stream",
          "text": [
            "            BABY ME ATENDE\n",
            "DATA                      \n",
            "2021-07-01             NaN\n",
            "2021-10-01             NaN\n",
            "2022-01-01      552.156292\n",
            "2022-04-01    33777.790942\n",
            "2022-07-01    14932.609789\n"
          ]
        }
      ],
      "source": [
        "df_royalties_timeseries.index = df_royalties_timeseries['DATA']\n",
        "del df_royalties_timeseries['DATA']\n",
        "print(df_royalties_timeseries.head())"
      ]
    },
    {
      "cell_type": "markdown",
      "id": "20d107cf-b0e4-4d8d-980c-f720f737c7c8",
      "metadata": {
        "id": "20d107cf-b0e4-4d8d-980c-f720f737c7c8"
      },
      "source": [
        "## Statistics"
      ]
    },
    {
      "cell_type": "code",
      "execution_count": null,
      "id": "dfb620bf-c44c-42a2-890d-3f7dd76b5a82",
      "metadata": {
        "id": "dfb620bf-c44c-42a2-890d-3f7dd76b5a82",
        "outputId": "027b825b-b98f-4eec-d9fe-f7209cf442aa"
      },
      "outputs": [
        {
          "data": {
            "image/png": "[encoded data removed]",
            "text/plain": [
              "<Figure size 648x360 with 1 Axes>"
            ]
          },
          "metadata": {
            "needs_background": "light"
          },
          "output_type": "display_data"
        }
      ],
      "source": [
        "#plt.plot(df_spotify_timeseries)\n",
        "df_spotify_timeseries = df_spotify_timeseries[df_spotify_timeseries['Change'] != 0]\n",
        "fig1 = plt.figure(figsize=(9, 5))\n",
        "plt.plot(df_spotify_timeseries, '.', color='green', label='Real Data')\n",
        "fig1.savefig('spotify_ex.jpg')\n"
      ]
    },
    {
      "cell_type": "code",
      "execution_count": null,
      "id": "73b5e894-897c-4def-b8fc-6420449ce90a",
      "metadata": {
        "id": "73b5e894-897c-4def-b8fc-6420449ce90a",
        "outputId": "e8589a33-7f14-4632-902a-a7e846d09946"
      },
      "outputs": [
        {
          "data": {
            "image/png": "[encoded data removed]",
            "text/plain": [
              "<Figure size 648x360 with 1 Axes>"
            ]
          },
          "metadata": {
            "needs_background": "light"
          },
          "output_type": "display_data"
        }
      ],
      "source": [
        "#plt.plot(df_shazam_timeseries)\n",
        "df_shazam_timeseries = df_shazam_timeseries[df_shazam_timeseries['Change'] != 0]\n",
        "fig1 = plt.figure(figsize=(9, 5))\n",
        "plt.plot(df_shazam_timeseries, '.', color='blue', label='Real Data')\n",
        "fig1.savefig('shazam_ex.jpg')\n"
      ]
    },
    {
      "cell_type": "code",
      "execution_count": null,
      "id": "0e69e2cb-93cc-4bd2-a512-36040fcef69e",
      "metadata": {
        "id": "0e69e2cb-93cc-4bd2-a512-36040fcef69e",
        "outputId": "64dc0e0b-6956-4fc7-c036-bb006517355f"
      },
      "outputs": [
        {
          "ename": "TimeoutError",
          "evalue": "[Errno 60] Operation timed out: 'tiktok_ex.jpg'",
          "output_type": "error",
          "traceback": [
            "\u001b[0;31m---------------------------------------------------------------------------\u001b[0m",
            "\u001b[0;31mTimeoutError\u001b[0m                              Traceback (most recent call last)",
            "Input \u001b[0;32mIn [23]\u001b[0m, in \u001b[0;36m<cell line: 5>\u001b[0;34m()\u001b[0m\n\u001b[1;32m      3\u001b[0m fig1 \u001b[38;5;241m=\u001b[39m plt\u001b[38;5;241m.\u001b[39mfigure(figsize\u001b[38;5;241m=\u001b[39m(\u001b[38;5;241m9\u001b[39m, \u001b[38;5;241m5\u001b[39m))\n\u001b[1;32m      4\u001b[0m plt\u001b[38;5;241m.\u001b[39mplot(df_tiktok_timeseries, \u001b[38;5;124m'\u001b[39m\u001b[38;5;124m.\u001b[39m\u001b[38;5;124m'\u001b[39m, color\u001b[38;5;241m=\u001b[39m\u001b[38;5;124m'\u001b[39m\u001b[38;5;124mmagenta\u001b[39m\u001b[38;5;124m'\u001b[39m, label\u001b[38;5;241m=\u001b[39m\u001b[38;5;124m'\u001b[39m\u001b[38;5;124mReal Data\u001b[39m\u001b[38;5;124m'\u001b[39m)\n\u001b[0;32m----> 5\u001b[0m \u001b[43mfig1\u001b[49m\u001b[38;5;241;43m.\u001b[39;49m\u001b[43msavefig\u001b[49m\u001b[43m(\u001b[49m\u001b[38;5;124;43m'\u001b[39;49m\u001b[38;5;124;43mtiktok_ex.jpg\u001b[39;49m\u001b[38;5;124;43m'\u001b[39;49m\u001b[43m)\u001b[49m\n",
            "File \u001b[0;32m~/opt/anaconda3/lib/python3.9/site-packages/matplotlib/figure.py:3019\u001b[0m, in \u001b[0;36mFigure.savefig\u001b[0;34m(self, fname, transparent, **kwargs)\u001b[0m\n\u001b[1;32m   3015\u001b[0m     \u001b[38;5;28;01mfor\u001b[39;00m ax \u001b[38;5;129;01min\u001b[39;00m \u001b[38;5;28mself\u001b[39m\u001b[38;5;241m.\u001b[39maxes:\n\u001b[1;32m   3016\u001b[0m         stack\u001b[38;5;241m.\u001b[39menter_context(\n\u001b[1;32m   3017\u001b[0m             ax\u001b[38;5;241m.\u001b[39mpatch\u001b[38;5;241m.\u001b[39m_cm_set(facecolor\u001b[38;5;241m=\u001b[39m\u001b[38;5;124m'\u001b[39m\u001b[38;5;124mnone\u001b[39m\u001b[38;5;124m'\u001b[39m, edgecolor\u001b[38;5;241m=\u001b[39m\u001b[38;5;124m'\u001b[39m\u001b[38;5;124mnone\u001b[39m\u001b[38;5;124m'\u001b[39m))\n\u001b[0;32m-> 3019\u001b[0m \u001b[38;5;28;43mself\u001b[39;49m\u001b[38;5;241;43m.\u001b[39;49m\u001b[43mcanvas\u001b[49m\u001b[38;5;241;43m.\u001b[39;49m\u001b[43mprint_figure\u001b[49m\u001b[43m(\u001b[49m\u001b[43mfname\u001b[49m\u001b[43m,\u001b[49m\u001b[43m \u001b[49m\u001b[38;5;241;43m*\u001b[39;49m\u001b[38;5;241;43m*\u001b[39;49m\u001b[43mkwargs\u001b[49m\u001b[43m)\u001b[49m\n",
            "File \u001b[0;32m~/opt/anaconda3/lib/python3.9/site-packages/matplotlib/backend_bases.py:2319\u001b[0m, in \u001b[0;36mFigureCanvasBase.print_figure\u001b[0;34m(self, filename, dpi, facecolor, edgecolor, orientation, format, bbox_inches, pad_inches, bbox_extra_artists, backend, **kwargs)\u001b[0m\n\u001b[1;32m   2315\u001b[0m \u001b[38;5;28;01mtry\u001b[39;00m:\n\u001b[1;32m   2316\u001b[0m     \u001b[38;5;66;03m# _get_renderer may change the figure dpi (as vector formats\u001b[39;00m\n\u001b[1;32m   2317\u001b[0m     \u001b[38;5;66;03m# force the figure dpi to 72), so we need to set it again here.\u001b[39;00m\n\u001b[1;32m   2318\u001b[0m     \u001b[38;5;28;01mwith\u001b[39;00m cbook\u001b[38;5;241m.\u001b[39m_setattr_cm(\u001b[38;5;28mself\u001b[39m\u001b[38;5;241m.\u001b[39mfigure, dpi\u001b[38;5;241m=\u001b[39mdpi):\n\u001b[0;32m-> 2319\u001b[0m         result \u001b[38;5;241m=\u001b[39m \u001b[43mprint_method\u001b[49m\u001b[43m(\u001b[49m\n\u001b[1;32m   2320\u001b[0m \u001b[43m            \u001b[49m\u001b[43mfilename\u001b[49m\u001b[43m,\u001b[49m\n\u001b[1;32m   2321\u001b[0m \u001b[43m            \u001b[49m\u001b[43mfacecolor\u001b[49m\u001b[38;5;241;43m=\u001b[39;49m\u001b[43mfacecolor\u001b[49m\u001b[43m,\u001b[49m\n\u001b[1;32m   2322\u001b[0m \u001b[43m            \u001b[49m\u001b[43medgecolor\u001b[49m\u001b[38;5;241;43m=\u001b[39;49m\u001b[43medgecolor\u001b[49m\u001b[43m,\u001b[49m\n\u001b[1;32m   2323\u001b[0m \u001b[43m            \u001b[49m\u001b[43morientation\u001b[49m\u001b[38;5;241;43m=\u001b[39;49m\u001b[43morientation\u001b[49m\u001b[43m,\u001b[49m\n\u001b[1;32m   2324\u001b[0m \u001b[43m            \u001b[49m\u001b[43mbbox_inches_restore\u001b[49m\u001b[38;5;241;43m=\u001b[39;49m\u001b[43m_bbox_inches_restore\u001b[49m\u001b[43m,\u001b[49m\n\u001b[1;32m   2325\u001b[0m \u001b[43m            \u001b[49m\u001b[38;5;241;43m*\u001b[39;49m\u001b[38;5;241;43m*\u001b[39;49m\u001b[43mkwargs\u001b[49m\u001b[43m)\u001b[49m\n\u001b[1;32m   2326\u001b[0m \u001b[38;5;28;01mfinally\u001b[39;00m:\n\u001b[1;32m   2327\u001b[0m     \u001b[38;5;28;01mif\u001b[39;00m bbox_inches \u001b[38;5;129;01mand\u001b[39;00m restore_bbox:\n",
            "File \u001b[0;32m~/opt/anaconda3/lib/python3.9/site-packages/matplotlib/backend_bases.py:1648\u001b[0m, in \u001b[0;36m_check_savefig_extra_args.<locals>.wrapper\u001b[0;34m(*args, **kwargs)\u001b[0m\n\u001b[1;32m   1640\u001b[0m     _api\u001b[38;5;241m.\u001b[39mwarn_deprecated(\n\u001b[1;32m   1641\u001b[0m         \u001b[38;5;124m'\u001b[39m\u001b[38;5;124m3.3\u001b[39m\u001b[38;5;124m'\u001b[39m, name\u001b[38;5;241m=\u001b[39mname, removal\u001b[38;5;241m=\u001b[39m\u001b[38;5;124m'\u001b[39m\u001b[38;5;124m3.6\u001b[39m\u001b[38;5;124m'\u001b[39m,\n\u001b[1;32m   1642\u001b[0m         message\u001b[38;5;241m=\u001b[39m\u001b[38;5;124m'\u001b[39m\u001b[38;5;132;01m%(name)s\u001b[39;00m\u001b[38;5;124m() got unexpected keyword argument \u001b[39m\u001b[38;5;124m\"\u001b[39m\u001b[38;5;124m'\u001b[39m\n\u001b[1;32m   1643\u001b[0m                 \u001b[38;5;241m+\u001b[39m arg \u001b[38;5;241m+\u001b[39m \u001b[38;5;124m'\u001b[39m\u001b[38;5;124m\"\u001b[39m\u001b[38;5;124m which is no longer supported as of \u001b[39m\u001b[38;5;124m'\u001b[39m\n\u001b[1;32m   1644\u001b[0m                 \u001b[38;5;124m'\u001b[39m\u001b[38;5;132;01m%(since)s\u001b[39;00m\u001b[38;5;124m and will become an error \u001b[39m\u001b[38;5;124m'\u001b[39m\n\u001b[1;32m   1645\u001b[0m                 \u001b[38;5;124m'\u001b[39m\u001b[38;5;132;01m%(removal)s\u001b[39;00m\u001b[38;5;124m'\u001b[39m)\n\u001b[1;32m   1646\u001b[0m     kwargs\u001b[38;5;241m.\u001b[39mpop(arg)\n\u001b[0;32m-> 1648\u001b[0m \u001b[38;5;28;01mreturn\u001b[39;00m \u001b[43mfunc\u001b[49m\u001b[43m(\u001b[49m\u001b[38;5;241;43m*\u001b[39;49m\u001b[43margs\u001b[49m\u001b[43m,\u001b[49m\u001b[43m \u001b[49m\u001b[38;5;241;43m*\u001b[39;49m\u001b[38;5;241;43m*\u001b[39;49m\u001b[43mkwargs\u001b[49m\u001b[43m)\u001b[49m\n",
            "File \u001b[0;32m~/opt/anaconda3/lib/python3.9/site-packages/matplotlib/_api/deprecation.py:412\u001b[0m, in \u001b[0;36mdelete_parameter.<locals>.wrapper\u001b[0;34m(*inner_args, **inner_kwargs)\u001b[0m\n\u001b[1;32m    402\u001b[0m     deprecation_addendum \u001b[38;5;241m=\u001b[39m (\n\u001b[1;32m    403\u001b[0m         \u001b[38;5;124mf\u001b[39m\u001b[38;5;124m\"\u001b[39m\u001b[38;5;124mIf any parameter follows \u001b[39m\u001b[38;5;132;01m{\u001b[39;00mname\u001b[38;5;132;01m!r}\u001b[39;00m\u001b[38;5;124m, they should be passed as \u001b[39m\u001b[38;5;124m\"\u001b[39m\n\u001b[1;32m    404\u001b[0m         \u001b[38;5;124mf\u001b[39m\u001b[38;5;124m\"\u001b[39m\u001b[38;5;124mkeyword, not positionally.\u001b[39m\u001b[38;5;124m\"\u001b[39m)\n\u001b[1;32m    405\u001b[0m     warn_deprecated(\n\u001b[1;32m    406\u001b[0m         since,\n\u001b[1;32m    407\u001b[0m         name\u001b[38;5;241m=\u001b[39m\u001b[38;5;28mrepr\u001b[39m(name),\n\u001b[0;32m   (...)\u001b[0m\n\u001b[1;32m    410\u001b[0m                  \u001b[38;5;28;01melse\u001b[39;00m deprecation_addendum,\n\u001b[1;32m    411\u001b[0m         \u001b[38;5;241m*\u001b[39m\u001b[38;5;241m*\u001b[39mkwargs)\n\u001b[0;32m--> 412\u001b[0m \u001b[38;5;28;01mreturn\u001b[39;00m \u001b[43mfunc\u001b[49m\u001b[43m(\u001b[49m\u001b[38;5;241;43m*\u001b[39;49m\u001b[43minner_args\u001b[49m\u001b[43m,\u001b[49m\u001b[43m \u001b[49m\u001b[38;5;241;43m*\u001b[39;49m\u001b[38;5;241;43m*\u001b[39;49m\u001b[43minner_kwargs\u001b[49m\u001b[43m)\u001b[49m\n",
            "File \u001b[0;32m~/opt/anaconda3/lib/python3.9/site-packages/matplotlib/backends/backend_agg.py:583\u001b[0m, in \u001b[0;36mFigureCanvasAgg.print_jpg\u001b[0;34m(self, filename_or_obj, pil_kwargs, *args, **kwargs)\u001b[0m\n\u001b[1;32m    581\u001b[0m pil_kwargs\u001b[38;5;241m.\u001b[39msetdefault(\u001b[38;5;124m\"\u001b[39m\u001b[38;5;124mdpi\u001b[39m\u001b[38;5;124m\"\u001b[39m, (\u001b[38;5;28mself\u001b[39m\u001b[38;5;241m.\u001b[39mfigure\u001b[38;5;241m.\u001b[39mdpi, \u001b[38;5;28mself\u001b[39m\u001b[38;5;241m.\u001b[39mfigure\u001b[38;5;241m.\u001b[39mdpi))\n\u001b[1;32m    582\u001b[0m \u001b[38;5;66;03m# Drop alpha channel now.\u001b[39;00m\n\u001b[0;32m--> 583\u001b[0m \u001b[38;5;28;01mreturn\u001b[39;00m (\u001b[43mImage\u001b[49m\u001b[38;5;241;43m.\u001b[39;49m\u001b[43mfromarray\u001b[49m\u001b[43m(\u001b[49m\u001b[43mnp\u001b[49m\u001b[38;5;241;43m.\u001b[39;49m\u001b[43masarray\u001b[49m\u001b[43m(\u001b[49m\u001b[38;5;28;43mself\u001b[39;49m\u001b[38;5;241;43m.\u001b[39;49m\u001b[43mbuffer_rgba\u001b[49m\u001b[43m(\u001b[49m\u001b[43m)\u001b[49m\u001b[43m)\u001b[49m\u001b[43m[\u001b[49m\u001b[38;5;241;43m.\u001b[39;49m\u001b[38;5;241;43m.\u001b[39;49m\u001b[38;5;241;43m.\u001b[39;49m\u001b[43m,\u001b[49m\u001b[43m \u001b[49m\u001b[43m:\u001b[49m\u001b[38;5;241;43m3\u001b[39;49m\u001b[43m]\u001b[49m\u001b[43m)\u001b[49m\n\u001b[1;32m    584\u001b[0m \u001b[43m        \u001b[49m\u001b[38;5;241;43m.\u001b[39;49m\u001b[43msave\u001b[49m\u001b[43m(\u001b[49m\u001b[43mfilename_or_obj\u001b[49m\u001b[43m,\u001b[49m\u001b[43m \u001b[49m\u001b[38;5;28;43mformat\u001b[39;49m\u001b[38;5;241;43m=\u001b[39;49m\u001b[38;5;124;43m'\u001b[39;49m\u001b[38;5;124;43mjpeg\u001b[39;49m\u001b[38;5;124;43m'\u001b[39;49m\u001b[43m,\u001b[49m\u001b[43m \u001b[49m\u001b[38;5;241;43m*\u001b[39;49m\u001b[38;5;241;43m*\u001b[39;49m\u001b[43mpil_kwargs\u001b[49m\u001b[43m)\u001b[49m)\n",
            "File \u001b[0;32m~/opt/anaconda3/lib/python3.9/site-packages/PIL/Image.py:2209\u001b[0m, in \u001b[0;36mImage.save\u001b[0;34m(self, fp, format, **params)\u001b[0m\n\u001b[1;32m   2207\u001b[0m         fp \u001b[38;5;241m=\u001b[39m builtins\u001b[38;5;241m.\u001b[39mopen(filename, \u001b[38;5;124m\"\u001b[39m\u001b[38;5;124mr+b\u001b[39m\u001b[38;5;124m\"\u001b[39m)\n\u001b[1;32m   2208\u001b[0m     \u001b[38;5;28;01melse\u001b[39;00m:\n\u001b[0;32m-> 2209\u001b[0m         fp \u001b[38;5;241m=\u001b[39m \u001b[43mbuiltins\u001b[49m\u001b[38;5;241;43m.\u001b[39;49m\u001b[43mopen\u001b[49m\u001b[43m(\u001b[49m\u001b[43mfilename\u001b[49m\u001b[43m,\u001b[49m\u001b[43m \u001b[49m\u001b[38;5;124;43m\"\u001b[39;49m\u001b[38;5;124;43mw+b\u001b[39;49m\u001b[38;5;124;43m\"\u001b[39;49m\u001b[43m)\u001b[49m\n\u001b[1;32m   2211\u001b[0m \u001b[38;5;28;01mtry\u001b[39;00m:\n\u001b[1;32m   2212\u001b[0m     save_handler(\u001b[38;5;28mself\u001b[39m, fp, filename)\n",
            "\u001b[0;31mTimeoutError\u001b[0m: [Errno 60] Operation timed out: 'tiktok_ex.jpg'"
          ]
        },
        {
          "data": {
            "image/png": "[encoded data removed]",
            "text/plain": [
              "<Figure size 648x360 with 1 Axes>"
            ]
          },
          "metadata": {
            "needs_background": "light"
          },
          "output_type": "display_data"
        }
      ],
      "source": [
        "#plt.plot(df_tiktok_timeseries)\n",
        "df_tiktok_timeseries = df_tiktok_timeseries[df_tiktok_timeseries['Change'] != 0]\n",
        "fig1 = plt.figure(figsize=(9, 5))\n",
        "plt.plot(df_tiktok_timeseries, '.', color='magenta', label='Real Data')\n",
        "fig1.savefig('tiktok_ex.jpg')\n"
      ]
    },
    {
      "cell_type": "code",
      "execution_count": null,
      "id": "5b6035c2-71c7-45ca-ae58-f8f0891992fc",
      "metadata": {
        "id": "5b6035c2-71c7-45ca-ae58-f8f0891992fc",
        "outputId": "b49bcba9-f84a-44ac-edc2-b33ab0691ca5"
      },
      "outputs": [
        {
          "data": {
            "image/png": "[encoded data removed]",
            "text/plain": [
              "<Figure size 648x360 with 1 Axes>"
            ]
          },
          "metadata": {
            "needs_background": "light"
          },
          "output_type": "display_data"
        }
      ],
      "source": [
        "#plt.plot(df_youtube_timeseries)\n",
        "df_youtube_timeseries = df_youtube_timeseries[df_youtube_timeseries['Change'] != 0]\n",
        "fig1 = plt.figure(figsize=(9, 5))\n",
        "ax = plt.gca()\n",
        "ax.get_xaxis().get_major_formatter().set_useOffset(False)\n",
        "plt.draw()\n",
        "ax.get_yaxis().get_major_formatter().set_scientific(False)\n",
        "plt.plot(df_youtube_timeseries, '.', color='red', label='Real Data')\n",
        "fig1.savefig('youtube_ex.jpg')\n"
      ]
    },
    {
      "cell_type": "code",
      "execution_count": null,
      "id": "1f23f7c3-eb84-4ba9-a3ef-63406898cb43",
      "metadata": {
        "id": "1f23f7c3-eb84-4ba9-a3ef-63406898cb43",
        "outputId": "f84aaa0f-3495-47f3-9922-5d9070a0282f"
      },
      "outputs": [
        {
          "data": {
            "image/png": "[encoded data removed]",
            "text/plain": [
              "<Figure size 648x360 with 1 Axes>"
            ]
          },
          "metadata": {
            "needs_background": "light"
          },
          "output_type": "display_data"
        }
      ],
      "source": [
        "from matplotlib.ticker import FuncFormatter\n",
        "fig1 = plt.figure(figsize=(9, 5))\n",
        "def moeda(x, pos):\n",
        "    return 'R$%1.2f' % (x*1e-0)\n",
        "\n",
        "formatter = FuncFormatter(moeda)\n",
        "ax = plt.gca()\n",
        "ax.yaxis.set_major_formatter(formatter)\n",
        "plt.plot(df_royalties_timeseries, '-', color='orange', label='Real Data')\n",
        "plt.ylim(0,40000)\n",
        "fig1.savefig('royalties_ex.jpg')\n"
      ]
    },
    {
      "cell_type": "code",
      "execution_count": null,
      "id": "ab82d646-7290-48db-a551-0c95e285449a",
      "metadata": {
        "id": "ab82d646-7290-48db-a551-0c95e285449a",
        "outputId": "f9459f0d-4cb4-4cc9-fe23-f8db9fae1fe4"
      },
      "outputs": [
        {
          "data": {
            "text/plain": [
              "[<matplotlib.lines.Line2D at 0x7f9420569af0>]"
            ]
          },
          "execution_count": 31,
          "metadata": {},
          "output_type": "execute_result"
        },
        {
          "data": {
            "image/png": "[encoded data removed]",
            "text/plain": [
              "<Figure size 648x360 with 1 Axes>"
            ]
          },
          "metadata": {
            "needs_background": "light"
          },
          "output_type": "display_data"
        }
      ],
      "source": [
        "#plt.plot(df_youtube_timeseries)\n",
        "df_youtube_timeseries = df_youtube_timeseries[df_youtube_timeseries['Change'] != 0]\n",
        "fig1 = plt.figure(figsize=(9, 5))\n",
        "plt.plot(df_youtube_timeseries, '-', color='red', label='Real Data')\n",
        "plt.plot(df_tiktok_timeseries, '-', color='magenta', label='Real Data')\n",
        "plt.plot(df_spotify_timeseries, '-', color='green', label='Real Data')"
      ]
    },
    {
      "cell_type": "code",
      "execution_count": null,
      "id": "aae463be-c872-44cf-b450-1dea37bcbf25",
      "metadata": {
        "id": "aae463be-c872-44cf-b450-1dea37bcbf25"
      },
      "outputs": [],
      "source": [
        "#stationarity\n",
        "rolling_mean = df_spotify_timeseries.rolling(7).mean()\n",
        "rolling_std = df_spotify_timeseries.rolling(7).std()"
      ]
    },
    {
      "cell_type": "code",
      "execution_count": null,
      "id": "51abd7d2-76c5-47e7-a95f-3d575d93def9",
      "metadata": {
        "id": "51abd7d2-76c5-47e7-a95f-3d575d93def9",
        "outputId": "e2337c7e-e6f2-453d-9e75-f4789c54b801"
      },
      "outputs": [
        {
          "data": {
            "text/plain": [
              "<matplotlib.legend.Legend at 0x7fbccc91adf0>"
            ]
          },
          "execution_count": 16,
          "metadata": {},
          "output_type": "execute_result"
        },
        {
          "data": {
            "image/png": "[encoded data removed]",
            "text/plain": [
              "<Figure size 432x288 with 1 Axes>"
            ]
          },
          "metadata": {
            "needs_background": "light"
          },
          "output_type": "display_data"
        }
      ],
      "source": [
        "plt.plot(df_spotify_timeseries, color=\"blue\",label=\"Original Spotify Plays\")\n",
        "plt.plot(rolling_mean, color=\"red\", label=\"Rolling Mean Spotify Plays\")\n",
        "plt.plot(rolling_std, color=\"black\", label = \"Rolling Standard Deviation in Spotify Plays\")\n",
        "plt.title(\"Spotify Plays Time Series, Rolling Mean, Standard Deviation\")\n",
        "plt.legend(loc=\"best\")"
      ]
    },
    {
      "cell_type": "code",
      "execution_count": null,
      "id": "27af10b0-b57c-454e-a076-94e474917aa4",
      "metadata": {
        "id": "27af10b0-b57c-454e-a076-94e474917aa4",
        "outputId": "c1901dd8-7032-4753-b674-d131911a5b02"
      },
      "outputs": [
        {
          "name": "stdout",
          "output_type": "stream",
          "text": [
            "       Values                       Metric\n",
            "0    1.119587              Test Statistics\n",
            "1    0.995380                      p-value\n",
            "2   16.000000             No. of lags used\n",
            "3  364.000000  Number of observations used\n",
            "4   -3.448443          critical value (1%)\n",
            "5   -2.869513          critical value (5%)\n",
            "6   -2.571018         critical value (10%)\n"
          ]
        }
      ],
      "source": [
        "# augmented Dickey-Fuller test from the statsmodels package\n",
        "from statsmodels.tsa.stattools import adfuller\n",
        "adft = adfuller(df_spotify_timeseries,autolag=\"AIC\") #autolag parameter as “AIC,” which means that the lag is chosen to minimize the information criterion:\n",
        "output_df = pd.DataFrame({\"Values\":[adft[0],adft[1],adft[2],adft[3], adft[4]['1%'], adft[4]['5%'], adft[4]['10%']]  , \"Metric\":[\"Test Statistics\",\"p-value\",\"No. of lags used\",\"Number of observations used\",\n",
        "                                                        \"critical value (1%)\", \"critical value (5%)\", \"critical value (10%)\"]})\n",
        "print(output_df)"
      ]
    },
    {
      "cell_type": "raw",
      "id": "d6203b3f-0636-4dc9-b555-fd41e56be239",
      "metadata": {
        "id": "d6203b3f-0636-4dc9-b555-fd41e56be239"
      },
      "source": [
        "We can see that our data is not stationary from the fact that our p-value (0.01) is much more than 5 percent and the test statistic (1.12) is bigger than the critical value (-3.44), for our stationarity test. We can also draw these conclusions from inspecting the data, as we see a clear, no stationarity trend in the spotify plays."
      ]
    },
    {
      "cell_type": "code",
      "execution_count": null,
      "id": "171c7354-09d8-4f81-837a-90e69254a2dc",
      "metadata": {
        "id": "171c7354-09d8-4f81-837a-90e69254a2dc",
        "outputId": "77709497-c5cb-4bc1-b324-93e08d244e1e"
      },
      "outputs": [
        {
          "ename": "MissingDataError",
          "evalue": "exog contains inf or nans",
          "output_type": "error",
          "traceback": [
            "\u001b[0;31m---------------------------------------------------------------------------\u001b[0m",
            "\u001b[0;31mMissingDataError\u001b[0m                          Traceback (most recent call last)",
            "Input \u001b[0;32mIn [18]\u001b[0m, in \u001b[0;36m<cell line: 1>\u001b[0;34m()\u001b[0m\n\u001b[0;32m----> 1\u001b[0m adft \u001b[38;5;241m=\u001b[39m \u001b[43madfuller\u001b[49m\u001b[43m(\u001b[49m\u001b[43mdf_royalties_timeseries\u001b[49m\u001b[43m,\u001b[49m\u001b[43mautolag\u001b[49m\u001b[38;5;241;43m=\u001b[39;49m\u001b[38;5;124;43m\"\u001b[39;49m\u001b[38;5;124;43mAIC\u001b[39;49m\u001b[38;5;124;43m\"\u001b[39;49m\u001b[43m)\u001b[49m \u001b[38;5;66;03m#autolag parameter as “AIC,” which means that the lag is chosen to minimize the information criterion:\u001b[39;00m\n\u001b[1;32m      2\u001b[0m output_df \u001b[38;5;241m=\u001b[39m pd\u001b[38;5;241m.\u001b[39mDataFrame({\u001b[38;5;124m\"\u001b[39m\u001b[38;5;124mValues\u001b[39m\u001b[38;5;124m\"\u001b[39m:[adft[\u001b[38;5;241m0\u001b[39m],adft[\u001b[38;5;241m1\u001b[39m],adft[\u001b[38;5;241m2\u001b[39m],adft[\u001b[38;5;241m3\u001b[39m], adft[\u001b[38;5;241m4\u001b[39m][\u001b[38;5;124m'\u001b[39m\u001b[38;5;124m1\u001b[39m\u001b[38;5;124m%\u001b[39m\u001b[38;5;124m'\u001b[39m], adft[\u001b[38;5;241m4\u001b[39m][\u001b[38;5;124m'\u001b[39m\u001b[38;5;124m5\u001b[39m\u001b[38;5;124m%\u001b[39m\u001b[38;5;124m'\u001b[39m], adft[\u001b[38;5;241m4\u001b[39m][\u001b[38;5;124m'\u001b[39m\u001b[38;5;124m10\u001b[39m\u001b[38;5;124m%\u001b[39m\u001b[38;5;124m'\u001b[39m]]  , \u001b[38;5;124m\"\u001b[39m\u001b[38;5;124mMetric\u001b[39m\u001b[38;5;124m\"\u001b[39m:[\u001b[38;5;124m\"\u001b[39m\u001b[38;5;124mTest Statistics\u001b[39m\u001b[38;5;124m\"\u001b[39m,\u001b[38;5;124m\"\u001b[39m\u001b[38;5;124mp-value\u001b[39m\u001b[38;5;124m\"\u001b[39m,\u001b[38;5;124m\"\u001b[39m\u001b[38;5;124mNo. of lags used\u001b[39m\u001b[38;5;124m\"\u001b[39m,\u001b[38;5;124m\"\u001b[39m\u001b[38;5;124mNumber of observations used\u001b[39m\u001b[38;5;124m\"\u001b[39m, \n\u001b[1;32m      3\u001b[0m                                                         \u001b[38;5;124m\"\u001b[39m\u001b[38;5;124mcritical value (1\u001b[39m\u001b[38;5;124m%\u001b[39m\u001b[38;5;124m)\u001b[39m\u001b[38;5;124m\"\u001b[39m, \u001b[38;5;124m\"\u001b[39m\u001b[38;5;124mcritical value (5\u001b[39m\u001b[38;5;124m%\u001b[39m\u001b[38;5;124m)\u001b[39m\u001b[38;5;124m\"\u001b[39m, \u001b[38;5;124m\"\u001b[39m\u001b[38;5;124mcritical value (10\u001b[39m\u001b[38;5;124m%\u001b[39m\u001b[38;5;124m)\u001b[39m\u001b[38;5;124m\"\u001b[39m]})\n\u001b[1;32m      4\u001b[0m \u001b[38;5;28mprint\u001b[39m(output_df)\n",
            "File \u001b[0;32m~/opt/anaconda3/lib/python3.9/site-packages/statsmodels/tsa/stattools.py:321\u001b[0m, in \u001b[0;36madfuller\u001b[0;34m(x, maxlag, regression, autolag, store, regresults)\u001b[0m\n\u001b[1;32m    315\u001b[0m \u001b[38;5;66;03m# 1 for level\u001b[39;00m\n\u001b[1;32m    316\u001b[0m \u001b[38;5;66;03m# search for lag length with smallest information criteria\u001b[39;00m\n\u001b[1;32m    317\u001b[0m \u001b[38;5;66;03m# Note: use the same number of observations to have comparable IC\u001b[39;00m\n\u001b[1;32m    318\u001b[0m \u001b[38;5;66;03m# aic and bic: smaller is better\u001b[39;00m\n\u001b[1;32m    320\u001b[0m \u001b[38;5;28;01mif\u001b[39;00m \u001b[38;5;129;01mnot\u001b[39;00m regresults:\n\u001b[0;32m--> 321\u001b[0m     icbest, bestlag \u001b[38;5;241m=\u001b[39m \u001b[43m_autolag\u001b[49m\u001b[43m(\u001b[49m\n\u001b[1;32m    322\u001b[0m \u001b[43m        \u001b[49m\u001b[43mOLS\u001b[49m\u001b[43m,\u001b[49m\u001b[43m \u001b[49m\u001b[43mxdshort\u001b[49m\u001b[43m,\u001b[49m\u001b[43m \u001b[49m\u001b[43mfullRHS\u001b[49m\u001b[43m,\u001b[49m\u001b[43m \u001b[49m\u001b[43mstartlag\u001b[49m\u001b[43m,\u001b[49m\u001b[43m \u001b[49m\u001b[43mmaxlag\u001b[49m\u001b[43m,\u001b[49m\u001b[43m \u001b[49m\u001b[43mautolag\u001b[49m\n\u001b[1;32m    323\u001b[0m \u001b[43m    \u001b[49m\u001b[43m)\u001b[49m\n\u001b[1;32m    324\u001b[0m \u001b[38;5;28;01melse\u001b[39;00m:\n\u001b[1;32m    325\u001b[0m     icbest, bestlag, alres \u001b[38;5;241m=\u001b[39m _autolag(\n\u001b[1;32m    326\u001b[0m         OLS,\n\u001b[1;32m    327\u001b[0m         xdshort,\n\u001b[0;32m   (...)\u001b[0m\n\u001b[1;32m    332\u001b[0m         regresults\u001b[38;5;241m=\u001b[39mregresults,\n\u001b[1;32m    333\u001b[0m     )\n",
            "File \u001b[0;32m~/opt/anaconda3/lib/python3.9/site-packages/statsmodels/tsa/stattools.py:129\u001b[0m, in \u001b[0;36m_autolag\u001b[0;34m(mod, endog, exog, startlag, maxlag, method, modargs, fitargs, regresults)\u001b[0m\n\u001b[1;32m    127\u001b[0m method \u001b[38;5;241m=\u001b[39m method\u001b[38;5;241m.\u001b[39mlower()\n\u001b[1;32m    128\u001b[0m \u001b[38;5;28;01mfor\u001b[39;00m lag \u001b[38;5;129;01min\u001b[39;00m \u001b[38;5;28mrange\u001b[39m(startlag, startlag \u001b[38;5;241m+\u001b[39m maxlag \u001b[38;5;241m+\u001b[39m \u001b[38;5;241m1\u001b[39m):\n\u001b[0;32m--> 129\u001b[0m     mod_instance \u001b[38;5;241m=\u001b[39m \u001b[43mmod\u001b[49m\u001b[43m(\u001b[49m\u001b[43mendog\u001b[49m\u001b[43m,\u001b[49m\u001b[43m \u001b[49m\u001b[43mexog\u001b[49m\u001b[43m[\u001b[49m\u001b[43m:\u001b[49m\u001b[43m,\u001b[49m\u001b[43m \u001b[49m\u001b[43m:\u001b[49m\u001b[43mlag\u001b[49m\u001b[43m]\u001b[49m\u001b[43m,\u001b[49m\u001b[43m \u001b[49m\u001b[38;5;241;43m*\u001b[39;49m\u001b[43mmodargs\u001b[49m\u001b[43m)\u001b[49m\n\u001b[1;32m    130\u001b[0m     results[lag] \u001b[38;5;241m=\u001b[39m mod_instance\u001b[38;5;241m.\u001b[39mfit()\n\u001b[1;32m    132\u001b[0m \u001b[38;5;28;01mif\u001b[39;00m method \u001b[38;5;241m==\u001b[39m \u001b[38;5;124m\"\u001b[39m\u001b[38;5;124maic\u001b[39m\u001b[38;5;124m\"\u001b[39m:\n",
            "File \u001b[0;32m~/opt/anaconda3/lib/python3.9/site-packages/statsmodels/regression/linear_model.py:890\u001b[0m, in \u001b[0;36mOLS.__init__\u001b[0;34m(self, endog, exog, missing, hasconst, **kwargs)\u001b[0m\n\u001b[1;32m    887\u001b[0m     msg \u001b[38;5;241m=\u001b[39m (\u001b[38;5;124m\"\u001b[39m\u001b[38;5;124mWeights are not supported in OLS and will be ignored\u001b[39m\u001b[38;5;124m\"\u001b[39m\n\u001b[1;32m    888\u001b[0m            \u001b[38;5;124m\"\u001b[39m\u001b[38;5;124mAn exception will be raised in the next version.\u001b[39m\u001b[38;5;124m\"\u001b[39m)\n\u001b[1;32m    889\u001b[0m     warnings\u001b[38;5;241m.\u001b[39mwarn(msg, ValueWarning)\n\u001b[0;32m--> 890\u001b[0m \u001b[38;5;28;43msuper\u001b[39;49m\u001b[43m(\u001b[49m\u001b[43mOLS\u001b[49m\u001b[43m,\u001b[49m\u001b[43m \u001b[49m\u001b[38;5;28;43mself\u001b[39;49m\u001b[43m)\u001b[49m\u001b[38;5;241;43m.\u001b[39;49m\u001b[38;5;21;43m__init__\u001b[39;49m\u001b[43m(\u001b[49m\u001b[43mendog\u001b[49m\u001b[43m,\u001b[49m\u001b[43m \u001b[49m\u001b[43mexog\u001b[49m\u001b[43m,\u001b[49m\u001b[43m \u001b[49m\u001b[43mmissing\u001b[49m\u001b[38;5;241;43m=\u001b[39;49m\u001b[43mmissing\u001b[49m\u001b[43m,\u001b[49m\n\u001b[1;32m    891\u001b[0m \u001b[43m                          \u001b[49m\u001b[43mhasconst\u001b[49m\u001b[38;5;241;43m=\u001b[39;49m\u001b[43mhasconst\u001b[49m\u001b[43m,\u001b[49m\u001b[43m \u001b[49m\u001b[38;5;241;43m*\u001b[39;49m\u001b[38;5;241;43m*\u001b[39;49m\u001b[43mkwargs\u001b[49m\u001b[43m)\u001b[49m\n\u001b[1;32m    892\u001b[0m \u001b[38;5;28;01mif\u001b[39;00m \u001b[38;5;124m\"\u001b[39m\u001b[38;5;124mweights\u001b[39m\u001b[38;5;124m\"\u001b[39m \u001b[38;5;129;01min\u001b[39;00m \u001b[38;5;28mself\u001b[39m\u001b[38;5;241m.\u001b[39m_init_keys:\n\u001b[1;32m    893\u001b[0m     \u001b[38;5;28mself\u001b[39m\u001b[38;5;241m.\u001b[39m_init_keys\u001b[38;5;241m.\u001b[39mremove(\u001b[38;5;124m\"\u001b[39m\u001b[38;5;124mweights\u001b[39m\u001b[38;5;124m\"\u001b[39m)\n",
            "File \u001b[0;32m~/opt/anaconda3/lib/python3.9/site-packages/statsmodels/regression/linear_model.py:717\u001b[0m, in \u001b[0;36mWLS.__init__\u001b[0;34m(self, endog, exog, weights, missing, hasconst, **kwargs)\u001b[0m\n\u001b[1;32m    715\u001b[0m \u001b[38;5;28;01melse\u001b[39;00m:\n\u001b[1;32m    716\u001b[0m     weights \u001b[38;5;241m=\u001b[39m weights\u001b[38;5;241m.\u001b[39msqueeze()\n\u001b[0;32m--> 717\u001b[0m \u001b[38;5;28;43msuper\u001b[39;49m\u001b[43m(\u001b[49m\u001b[43mWLS\u001b[49m\u001b[43m,\u001b[49m\u001b[43m \u001b[49m\u001b[38;5;28;43mself\u001b[39;49m\u001b[43m)\u001b[49m\u001b[38;5;241;43m.\u001b[39;49m\u001b[38;5;21;43m__init__\u001b[39;49m\u001b[43m(\u001b[49m\u001b[43mendog\u001b[49m\u001b[43m,\u001b[49m\u001b[43m \u001b[49m\u001b[43mexog\u001b[49m\u001b[43m,\u001b[49m\u001b[43m \u001b[49m\u001b[43mmissing\u001b[49m\u001b[38;5;241;43m=\u001b[39;49m\u001b[43mmissing\u001b[49m\u001b[43m,\u001b[49m\n\u001b[1;32m    718\u001b[0m \u001b[43m                          \u001b[49m\u001b[43mweights\u001b[49m\u001b[38;5;241;43m=\u001b[39;49m\u001b[43mweights\u001b[49m\u001b[43m,\u001b[49m\u001b[43m \u001b[49m\u001b[43mhasconst\u001b[49m\u001b[38;5;241;43m=\u001b[39;49m\u001b[43mhasconst\u001b[49m\u001b[43m,\u001b[49m\u001b[43m \u001b[49m\u001b[38;5;241;43m*\u001b[39;49m\u001b[38;5;241;43m*\u001b[39;49m\u001b[43mkwargs\u001b[49m\u001b[43m)\u001b[49m\n\u001b[1;32m    719\u001b[0m nobs \u001b[38;5;241m=\u001b[39m \u001b[38;5;28mself\u001b[39m\u001b[38;5;241m.\u001b[39mexog\u001b[38;5;241m.\u001b[39mshape[\u001b[38;5;241m0\u001b[39m]\n\u001b[1;32m    720\u001b[0m weights \u001b[38;5;241m=\u001b[39m \u001b[38;5;28mself\u001b[39m\u001b[38;5;241m.\u001b[39mweights\n",
            "File \u001b[0;32m~/opt/anaconda3/lib/python3.9/site-packages/statsmodels/regression/linear_model.py:191\u001b[0m, in \u001b[0;36mRegressionModel.__init__\u001b[0;34m(self, endog, exog, **kwargs)\u001b[0m\n\u001b[1;32m    190\u001b[0m \u001b[38;5;28;01mdef\u001b[39;00m \u001b[38;5;21m__init__\u001b[39m(\u001b[38;5;28mself\u001b[39m, endog, exog, \u001b[38;5;241m*\u001b[39m\u001b[38;5;241m*\u001b[39mkwargs):\n\u001b[0;32m--> 191\u001b[0m     \u001b[38;5;28;43msuper\u001b[39;49m\u001b[43m(\u001b[49m\u001b[43mRegressionModel\u001b[49m\u001b[43m,\u001b[49m\u001b[43m \u001b[49m\u001b[38;5;28;43mself\u001b[39;49m\u001b[43m)\u001b[49m\u001b[38;5;241;43m.\u001b[39;49m\u001b[38;5;21;43m__init__\u001b[39;49m\u001b[43m(\u001b[49m\u001b[43mendog\u001b[49m\u001b[43m,\u001b[49m\u001b[43m \u001b[49m\u001b[43mexog\u001b[49m\u001b[43m,\u001b[49m\u001b[43m \u001b[49m\u001b[38;5;241;43m*\u001b[39;49m\u001b[38;5;241;43m*\u001b[39;49m\u001b[43mkwargs\u001b[49m\u001b[43m)\u001b[49m\n\u001b[1;32m    192\u001b[0m     \u001b[38;5;28mself\u001b[39m\u001b[38;5;241m.\u001b[39m_data_attr\u001b[38;5;241m.\u001b[39mextend([\u001b[38;5;124m'\u001b[39m\u001b[38;5;124mpinv_wexog\u001b[39m\u001b[38;5;124m'\u001b[39m, \u001b[38;5;124m'\u001b[39m\u001b[38;5;124mwendog\u001b[39m\u001b[38;5;124m'\u001b[39m, \u001b[38;5;124m'\u001b[39m\u001b[38;5;124mwexog\u001b[39m\u001b[38;5;124m'\u001b[39m, \u001b[38;5;124m'\u001b[39m\u001b[38;5;124mweights\u001b[39m\u001b[38;5;124m'\u001b[39m])\n",
            "File \u001b[0;32m~/opt/anaconda3/lib/python3.9/site-packages/statsmodels/base/model.py:267\u001b[0m, in \u001b[0;36mLikelihoodModel.__init__\u001b[0;34m(self, endog, exog, **kwargs)\u001b[0m\n\u001b[1;32m    266\u001b[0m \u001b[38;5;28;01mdef\u001b[39;00m \u001b[38;5;21m__init__\u001b[39m(\u001b[38;5;28mself\u001b[39m, endog, exog\u001b[38;5;241m=\u001b[39m\u001b[38;5;28;01mNone\u001b[39;00m, \u001b[38;5;241m*\u001b[39m\u001b[38;5;241m*\u001b[39mkwargs):\n\u001b[0;32m--> 267\u001b[0m     \u001b[38;5;28;43msuper\u001b[39;49m\u001b[43m(\u001b[49m\u001b[43m)\u001b[49m\u001b[38;5;241;43m.\u001b[39;49m\u001b[38;5;21;43m__init__\u001b[39;49m\u001b[43m(\u001b[49m\u001b[43mendog\u001b[49m\u001b[43m,\u001b[49m\u001b[43m \u001b[49m\u001b[43mexog\u001b[49m\u001b[43m,\u001b[49m\u001b[43m \u001b[49m\u001b[38;5;241;43m*\u001b[39;49m\u001b[38;5;241;43m*\u001b[39;49m\u001b[43mkwargs\u001b[49m\u001b[43m)\u001b[49m\n\u001b[1;32m    268\u001b[0m     \u001b[38;5;28mself\u001b[39m\u001b[38;5;241m.\u001b[39minitialize()\n",
            "File \u001b[0;32m~/opt/anaconda3/lib/python3.9/site-packages/statsmodels/base/model.py:92\u001b[0m, in \u001b[0;36mModel.__init__\u001b[0;34m(self, endog, exog, **kwargs)\u001b[0m\n\u001b[1;32m     90\u001b[0m missing \u001b[38;5;241m=\u001b[39m kwargs\u001b[38;5;241m.\u001b[39mpop(\u001b[38;5;124m'\u001b[39m\u001b[38;5;124mmissing\u001b[39m\u001b[38;5;124m'\u001b[39m, \u001b[38;5;124m'\u001b[39m\u001b[38;5;124mnone\u001b[39m\u001b[38;5;124m'\u001b[39m)\n\u001b[1;32m     91\u001b[0m hasconst \u001b[38;5;241m=\u001b[39m kwargs\u001b[38;5;241m.\u001b[39mpop(\u001b[38;5;124m'\u001b[39m\u001b[38;5;124mhasconst\u001b[39m\u001b[38;5;124m'\u001b[39m, \u001b[38;5;28;01mNone\u001b[39;00m)\n\u001b[0;32m---> 92\u001b[0m \u001b[38;5;28mself\u001b[39m\u001b[38;5;241m.\u001b[39mdata \u001b[38;5;241m=\u001b[39m \u001b[38;5;28;43mself\u001b[39;49m\u001b[38;5;241;43m.\u001b[39;49m\u001b[43m_handle_data\u001b[49m\u001b[43m(\u001b[49m\u001b[43mendog\u001b[49m\u001b[43m,\u001b[49m\u001b[43m \u001b[49m\u001b[43mexog\u001b[49m\u001b[43m,\u001b[49m\u001b[43m \u001b[49m\u001b[43mmissing\u001b[49m\u001b[43m,\u001b[49m\u001b[43m \u001b[49m\u001b[43mhasconst\u001b[49m\u001b[43m,\u001b[49m\n\u001b[1;32m     93\u001b[0m \u001b[43m                              \u001b[49m\u001b[38;5;241;43m*\u001b[39;49m\u001b[38;5;241;43m*\u001b[39;49m\u001b[43mkwargs\u001b[49m\u001b[43m)\u001b[49m\n\u001b[1;32m     94\u001b[0m \u001b[38;5;28mself\u001b[39m\u001b[38;5;241m.\u001b[39mk_constant \u001b[38;5;241m=\u001b[39m \u001b[38;5;28mself\u001b[39m\u001b[38;5;241m.\u001b[39mdata\u001b[38;5;241m.\u001b[39mk_constant\n\u001b[1;32m     95\u001b[0m \u001b[38;5;28mself\u001b[39m\u001b[38;5;241m.\u001b[39mexog \u001b[38;5;241m=\u001b[39m \u001b[38;5;28mself\u001b[39m\u001b[38;5;241m.\u001b[39mdata\u001b[38;5;241m.\u001b[39mexog\n",
            "File \u001b[0;32m~/opt/anaconda3/lib/python3.9/site-packages/statsmodels/base/model.py:132\u001b[0m, in \u001b[0;36mModel._handle_data\u001b[0;34m(self, endog, exog, missing, hasconst, **kwargs)\u001b[0m\n\u001b[1;32m    131\u001b[0m \u001b[38;5;28;01mdef\u001b[39;00m \u001b[38;5;21m_handle_data\u001b[39m(\u001b[38;5;28mself\u001b[39m, endog, exog, missing, hasconst, \u001b[38;5;241m*\u001b[39m\u001b[38;5;241m*\u001b[39mkwargs):\n\u001b[0;32m--> 132\u001b[0m     data \u001b[38;5;241m=\u001b[39m \u001b[43mhandle_data\u001b[49m\u001b[43m(\u001b[49m\u001b[43mendog\u001b[49m\u001b[43m,\u001b[49m\u001b[43m \u001b[49m\u001b[43mexog\u001b[49m\u001b[43m,\u001b[49m\u001b[43m \u001b[49m\u001b[43mmissing\u001b[49m\u001b[43m,\u001b[49m\u001b[43m \u001b[49m\u001b[43mhasconst\u001b[49m\u001b[43m,\u001b[49m\u001b[43m \u001b[49m\u001b[38;5;241;43m*\u001b[39;49m\u001b[38;5;241;43m*\u001b[39;49m\u001b[43mkwargs\u001b[49m\u001b[43m)\u001b[49m\n\u001b[1;32m    133\u001b[0m     \u001b[38;5;66;03m# kwargs arrays could have changed, easier to just attach here\u001b[39;00m\n\u001b[1;32m    134\u001b[0m     \u001b[38;5;28;01mfor\u001b[39;00m key \u001b[38;5;129;01min\u001b[39;00m kwargs:\n",
            "File \u001b[0;32m~/opt/anaconda3/lib/python3.9/site-packages/statsmodels/base/data.py:673\u001b[0m, in \u001b[0;36mhandle_data\u001b[0;34m(endog, exog, missing, hasconst, **kwargs)\u001b[0m\n\u001b[1;32m    670\u001b[0m     exog \u001b[38;5;241m=\u001b[39m np\u001b[38;5;241m.\u001b[39masarray(exog)\n\u001b[1;32m    672\u001b[0m klass \u001b[38;5;241m=\u001b[39m handle_data_class_factory(endog, exog)\n\u001b[0;32m--> 673\u001b[0m \u001b[38;5;28;01mreturn\u001b[39;00m \u001b[43mklass\u001b[49m\u001b[43m(\u001b[49m\u001b[43mendog\u001b[49m\u001b[43m,\u001b[49m\u001b[43m \u001b[49m\u001b[43mexog\u001b[49m\u001b[38;5;241;43m=\u001b[39;49m\u001b[43mexog\u001b[49m\u001b[43m,\u001b[49m\u001b[43m \u001b[49m\u001b[43mmissing\u001b[49m\u001b[38;5;241;43m=\u001b[39;49m\u001b[43mmissing\u001b[49m\u001b[43m,\u001b[49m\u001b[43m \u001b[49m\u001b[43mhasconst\u001b[49m\u001b[38;5;241;43m=\u001b[39;49m\u001b[43mhasconst\u001b[49m\u001b[43m,\u001b[49m\n\u001b[1;32m    674\u001b[0m \u001b[43m             \u001b[49m\u001b[38;5;241;43m*\u001b[39;49m\u001b[38;5;241;43m*\u001b[39;49m\u001b[43mkwargs\u001b[49m\u001b[43m)\u001b[49m\n",
            "File \u001b[0;32m~/opt/anaconda3/lib/python3.9/site-packages/statsmodels/base/data.py:86\u001b[0m, in \u001b[0;36mModelData.__init__\u001b[0;34m(self, endog, exog, missing, hasconst, **kwargs)\u001b[0m\n\u001b[1;32m     84\u001b[0m \u001b[38;5;28mself\u001b[39m\u001b[38;5;241m.\u001b[39mconst_idx \u001b[38;5;241m=\u001b[39m \u001b[38;5;28;01mNone\u001b[39;00m\n\u001b[1;32m     85\u001b[0m \u001b[38;5;28mself\u001b[39m\u001b[38;5;241m.\u001b[39mk_constant \u001b[38;5;241m=\u001b[39m \u001b[38;5;241m0\u001b[39m\n\u001b[0;32m---> 86\u001b[0m \u001b[38;5;28;43mself\u001b[39;49m\u001b[38;5;241;43m.\u001b[39;49m\u001b[43m_handle_constant\u001b[49m\u001b[43m(\u001b[49m\u001b[43mhasconst\u001b[49m\u001b[43m)\u001b[49m\n\u001b[1;32m     87\u001b[0m \u001b[38;5;28mself\u001b[39m\u001b[38;5;241m.\u001b[39m_check_integrity()\n\u001b[1;32m     88\u001b[0m \u001b[38;5;28mself\u001b[39m\u001b[38;5;241m.\u001b[39m_cache \u001b[38;5;241m=\u001b[39m {}\n",
            "File \u001b[0;32m~/opt/anaconda3/lib/python3.9/site-packages/statsmodels/base/data.py:132\u001b[0m, in \u001b[0;36mModelData._handle_constant\u001b[0;34m(self, hasconst)\u001b[0m\n\u001b[1;32m    130\u001b[0m exog_max \u001b[38;5;241m=\u001b[39m np\u001b[38;5;241m.\u001b[39mmax(\u001b[38;5;28mself\u001b[39m\u001b[38;5;241m.\u001b[39mexog, axis\u001b[38;5;241m=\u001b[39m\u001b[38;5;241m0\u001b[39m)\n\u001b[1;32m    131\u001b[0m \u001b[38;5;28;01mif\u001b[39;00m \u001b[38;5;129;01mnot\u001b[39;00m np\u001b[38;5;241m.\u001b[39misfinite(exog_max)\u001b[38;5;241m.\u001b[39mall():\n\u001b[0;32m--> 132\u001b[0m     \u001b[38;5;28;01mraise\u001b[39;00m MissingDataError(\u001b[38;5;124m'\u001b[39m\u001b[38;5;124mexog contains inf or nans\u001b[39m\u001b[38;5;124m'\u001b[39m)\n\u001b[1;32m    133\u001b[0m exog_min \u001b[38;5;241m=\u001b[39m np\u001b[38;5;241m.\u001b[39mmin(\u001b[38;5;28mself\u001b[39m\u001b[38;5;241m.\u001b[39mexog, axis\u001b[38;5;241m=\u001b[39m\u001b[38;5;241m0\u001b[39m)\n\u001b[1;32m    134\u001b[0m const_idx \u001b[38;5;241m=\u001b[39m np\u001b[38;5;241m.\u001b[39mwhere(exog_max \u001b[38;5;241m==\u001b[39m exog_min)[\u001b[38;5;241m0\u001b[39m]\u001b[38;5;241m.\u001b[39msqueeze()\n",
            "\u001b[0;31mMissingDataError\u001b[0m: exog contains inf or nans"
          ]
        }
      ],
      "source": [
        "adft = adfuller(df_royalties_timeseries,autolag=\"AIC\") #autolag parameter as “AIC,” which means that the lag is chosen to minimize the information criterion:\n",
        "output_df = pd.DataFrame({\"Values\":[adft[0],adft[1],adft[2],adft[3], adft[4]['1%'], adft[4]['5%'], adft[4]['10%']]  , \"Metric\":[\"Test Statistics\",\"p-value\",\"No. of lags used\",\"Number of observations used\",\n",
        "                                                        \"critical value (1%)\", \"critical value (5%)\", \"critical value (10%)\"]})\n",
        "print(output_df)"
      ]
    },
    {
      "cell_type": "code",
      "execution_count": null,
      "id": "4850a50a-d86b-4b35-8961-09b98bee505f",
      "metadata": {
        "id": "4850a50a-d86b-4b35-8961-09b98bee505f"
      },
      "outputs": [],
      "source": [
        "df_spotify_timeseries"
      ]
    },
    {
      "cell_type": "code",
      "execution_count": null,
      "id": "ea016eb1-bcdd-4fa5-85d9-144eb03aa010",
      "metadata": {
        "id": "ea016eb1-bcdd-4fa5-85d9-144eb03aa010"
      },
      "outputs": [],
      "source": [
        "autocorrelation_lag1 = df_spotify_timeseries['Change'].autocorr(lag=12)\n",
        "print(\"Month Lag: \", autocorrelation_lag1, \"Not highly autocorrelated among months\")"
      ]
    },
    {
      "cell_type": "code",
      "execution_count": null,
      "id": "3cad9ef3-6b61-479c-b34e-826923cc155d",
      "metadata": {
        "id": "3cad9ef3-6b61-479c-b34e-826923cc155d"
      },
      "outputs": [],
      "source": [
        "from statsmodels.tsa.seasonal import seasonal_decompose"
      ]
    },
    {
      "cell_type": "code",
      "execution_count": null,
      "id": "78ce6d58-9d07-4f3d-9134-61b99bb1e7e2",
      "metadata": {
        "id": "78ce6d58-9d07-4f3d-9134-61b99bb1e7e2",
        "outputId": "c35a300a-c502-4550-a9c6-15e133a23737"
      },
      "outputs": [
        {
          "ename": "NameError",
          "evalue": "name 'seasonal_decompose' is not defined",
          "output_type": "error",
          "traceback": [
            "\u001b[0;31m---------------------------------------------------------------------------\u001b[0m",
            "\u001b[0;31mNameError\u001b[0m                                 Traceback (most recent call last)",
            "Input \u001b[0;32mIn [70]\u001b[0m, in \u001b[0;36m<cell line: 1>\u001b[0;34m()\u001b[0m\n\u001b[0;32m----> 1\u001b[0m decompose \u001b[38;5;241m=\u001b[39m \u001b[43mseasonal_decompose\u001b[49m(df_spotify_timeseries[\u001b[38;5;124m'\u001b[39m\u001b[38;5;124mChange\u001b[39m\u001b[38;5;124m'\u001b[39m],model\u001b[38;5;241m=\u001b[39m\u001b[38;5;124m'\u001b[39m\u001b[38;5;124madditive\u001b[39m\u001b[38;5;124m'\u001b[39m, period\u001b[38;5;241m=\u001b[39m\u001b[38;5;241m12\u001b[39m)\n\u001b[1;32m      2\u001b[0m decompose\u001b[38;5;241m.\u001b[39mplot()\n\u001b[1;32m      3\u001b[0m plt\u001b[38;5;241m.\u001b[39mshow()\n",
            "\u001b[0;31mNameError\u001b[0m: name 'seasonal_decompose' is not defined"
          ]
        }
      ],
      "source": [
        "decompose = seasonal_decompose(df_spotify_timeseries['Change'],model='additive', period=12)\n",
        "decompose.plot()\n",
        "plt.show()"
      ]
    }
  ],
  "metadata": {
    "kernelspec": {
      "display_name": "Python 3 (ipykernel)",
      "language": "python",
      "name": "python3"
    },
    "language_info": {
      "codemirror_mode": {
        "name": "ipython",
        "version": 3
      },
      "file_extension": ".py",
      "mimetype": "text/x-python",
      "name": "python",
      "nbconvert_exporter": "python",
      "pygments_lexer": "ipython3",
      "version": "3.9.12"
    },
    "colab": {
      "provenance": []
    }
  },
  "nbformat": 4,
  "nbformat_minor": 5
}